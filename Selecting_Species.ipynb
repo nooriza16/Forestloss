{
 "cells": [
  {
   "cell_type": "markdown",
   "id": "be8fa126-de06-434d-95f3-1e75311792af",
   "metadata": {},
   "source": [
    "# Script for Pre-processing Dataset "
   ]
  },
  {
   "cell_type": "markdown",
   "id": "a75e241f-5829-45b1-950f-fd17c136cf86",
   "metadata": {},
   "source": [
    "This script is created with intention to document steps in preparing dataset to do forest loss analysis. There are 3 outcomes generated from this script. They are:\n",
    "1) Terrestrial Mammals Area of Habitat Based on IUCN Red List Category listed as Critically Endangered, Endangered, and Vulnerable (shp format)\n",
    "2) Birds Area of Habitat from Birdllife with Red List Category from IUCN (shp format)\n",
    "3) Planted Trees 2017 and 2020 (Following WRI definition) (tif format)"
   ]
  },
  {
   "cell_type": "markdown",
   "id": "58e16510-c411-43f0-808d-5925e7fe5bb2",
   "metadata": {},
   "source": [
    "## Mammals"
   ]
  },
  {
   "cell_type": "markdown",
   "id": "ebad1a90-9488-4cac-b77f-17511d7cf943",
   "metadata": {},
   "source": [
    "Dataset used here:\n",
    "1) Terrestrial mammal area of habitat (IUCN) available at https://www.iucnredlist.org/resources/spatial-data-download (1 July 2025)\n",
    "3) Bird Species' Area of Habitat (AOH) maps  requested from https://datazone.birdlife.org/contact-us/request-our-data (1 July 2025)\n",
    "4) All species' habitat, minimum and maximum altitude are collected through IUCN Redlist Webpage by entering species' name one by one (July 2025), saved here with mammals_database.xls & bird_database.xls\n",
    "5) Bird' IUCN redlist category available at https://datazone.birdlife.org/about-our-science/taxonomy (25 July 2025) named here as bird_iucn_taxonomy.xls file\n",
    "6) Spatial Database of Planted Forest (WRI) https://www.wri.org/research/spatial-database-planted-trees-sdpt-version-2 (July 2025) downloaded from \n",
    "   https://gfw-files.s3.amazonaws.com/plantations/SDPT_v2.1/sdpt_v21_v09152024_public.gdb.zip, I export the shp using QGIS (I try to be consistent in using python but always fail when opening using fiona, using Rstudio took a very long, using Arcgis got warning issues)\n",
    "8) Borneo Boundary (gadm41_Borneo_IDN_1) downloaded at https://gadm.org/ simplify vertex at 200m using ArcgisPro, explode and delete small-scattered islands except :\n",
    "   - Maya Karimata island -1.1114594, 109.5900927 & -0.807859, 109.441845\n",
    "   - Laut Selatan island -3.67704706, 116.1493258\n",
    "   - Sebuku island -3.515927, 116.3694682\n",
    "   - Mahakam Delta -0.663428, 117.401863\n",
    "   - and Bulungan River Estuary 3.027885, 117.468919"
   ]
  },
  {
   "cell_type": "code",
   "execution_count": 1,
   "id": "cc385175-359b-4ba3-9b42-0694dcac0589",
   "metadata": {},
   "outputs": [],
   "source": [
    "import numpy as np\n",
    "import matplotlib as plt\n",
    "import geopandas as gpd\n",
    "import os"
   ]
  },
  {
   "cell_type": "code",
   "execution_count": 3,
   "id": "3b1956dd-c649-495d-8c4b-5ad532254df3",
   "metadata": {},
   "outputs": [
    {
     "data": {
      "text/plain": [
       "'C:\\\\Users\\\\nooriza maharani\\\\Documents\\\\Dissertation'"
      ]
     },
     "execution_count": 3,
     "metadata": {},
     "output_type": "execute_result"
    }
   ],
   "source": [
    "os.getcwd()"
   ]
  },
  {
   "cell_type": "code",
   "execution_count": 3,
   "id": "406b8d5e-8af1-49c3-9ae3-1477dd84242d",
   "metadata": {},
   "outputs": [],
   "source": [
    "borneo_boundary = gpd.read_file('gadm41_Borneo.shp')"
   ]
  },
  {
   "cell_type": "code",
   "execution_count": 4,
   "id": "0eec6df6-59f5-41e3-a012-cd562987517c",
   "metadata": {},
   "outputs": [],
   "source": [
    "mammal = gpd.read_file('MAMMALS_TERRESTRIAL_ONLY.shp')"
   ]
  },
  {
   "cell_type": "code",
   "execution_count": 5,
   "id": "22cf49a4-a0de-48c8-b470-8dadc052bb6e",
   "metadata": {},
   "outputs": [
    {
     "name": "stderr",
     "output_type": "stream",
     "text": [
      "C:\\Anaconda\\Lib\\site-packages\\pyogrio\\geopandas.py:265: UserWarning: More than one layer found in 'BOTW_2024_2.gpkg': 'all_species' (default), 'main_BL_HBW_Checklist_V9'. Specify layer parameter to avoid this warning.\n",
      "  result = read_func(\n"
     ]
    }
   ],
   "source": [
    "bird = gpd.read_file('BOTW_2024_2.gpkg')"
   ]
  },
  {
   "cell_type": "code",
   "execution_count": 6,
   "id": "030ba9b8-b020-4ac9-9664-854ba88e6746",
   "metadata": {},
   "outputs": [
    {
     "name": "stdout",
     "output_type": "stream",
     "text": [
      "['all_species', 'main_BL_HBW_Checklist_V9']\n"
     ]
    }
   ],
   "source": [
    "import fiona\n",
    "\n",
    "# List all layers in the GPKG file\n",
    "layers = fiona.listlayers(\"BOTW_2024_2.gpkg\")\n",
    "print(layers)"
   ]
  },
  {
   "cell_type": "code",
   "execution_count": 7,
   "id": "e094c265-8cf7-4130-9a99-145b040ebada",
   "metadata": {},
   "outputs": [
    {
     "data": {
      "text/plain": [
       "<Geographic 2D CRS: EPSG:4326>\n",
       "Name: WGS 84\n",
       "Axis Info [ellipsoidal]:\n",
       "- Lat[north]: Geodetic latitude (degree)\n",
       "- Lon[east]: Geodetic longitude (degree)\n",
       "Area of Use:\n",
       "- name: World.\n",
       "- bounds: (-180.0, -90.0, 180.0, 90.0)\n",
       "Datum: World Geodetic System 1984 ensemble\n",
       "- Ellipsoid: WGS 84\n",
       "- Prime Meridian: Greenwich"
      ]
     },
     "execution_count": 7,
     "metadata": {},
     "output_type": "execute_result"
    }
   ],
   "source": [
    "borneo_boundary.crs"
   ]
  },
  {
   "cell_type": "code",
   "execution_count": 8,
   "id": "16857e79-83bf-440a-b397-9ca551af0677",
   "metadata": {},
   "outputs": [
    {
     "data": {
      "text/plain": [
       "<Geographic 2D CRS: EPSG:4326>\n",
       "Name: WGS 84\n",
       "Axis Info [ellipsoidal]:\n",
       "- Lat[north]: Geodetic latitude (degree)\n",
       "- Lon[east]: Geodetic longitude (degree)\n",
       "Area of Use:\n",
       "- name: World.\n",
       "- bounds: (-180.0, -90.0, 180.0, 90.0)\n",
       "Datum: World Geodetic System 1984 ensemble\n",
       "- Ellipsoid: WGS 84\n",
       "- Prime Meridian: Greenwich"
      ]
     },
     "execution_count": 8,
     "metadata": {},
     "output_type": "execute_result"
    }
   ],
   "source": [
    "mammal.crs"
   ]
  },
  {
   "cell_type": "code",
   "execution_count": 9,
   "id": "e4dc17f3-389b-4c87-930e-d5be76db2854",
   "metadata": {},
   "outputs": [
    {
     "data": {
      "text/plain": [
       "<Geographic 2D CRS: EPSG:4326>\n",
       "Name: WGS 84\n",
       "Axis Info [ellipsoidal]:\n",
       "- Lat[north]: Geodetic latitude (degree)\n",
       "- Lon[east]: Geodetic longitude (degree)\n",
       "Area of Use:\n",
       "- name: World.\n",
       "- bounds: (-180.0, -90.0, 180.0, 90.0)\n",
       "Datum: World Geodetic System 1984 ensemble\n",
       "- Ellipsoid: WGS 84\n",
       "- Prime Meridian: Greenwich"
      ]
     },
     "execution_count": 9,
     "metadata": {},
     "output_type": "execute_result"
    }
   ],
   "source": [
    "bird.crs"
   ]
  },
  {
   "cell_type": "markdown",
   "id": "67a3914f-5faa-4d1b-a7a1-762342119ae8",
   "metadata": {},
   "source": [
    "### Clipping Mammals with Borneo Boundary"
   ]
  },
  {
   "cell_type": "code",
   "execution_count": 11,
   "id": "2cfd5c02-7cf0-4091-a838-0eeefc477529",
   "metadata": {},
   "outputs": [
    {
     "name": "stdout",
     "output_type": "stream",
     "text": [
      "      id_no             sci_name  presence  origin  seasonal      compiler  \\\n",
      "2535   9760  Helarctos malayanus         5       1         1  Graham Usher   \n",
      "9831  41772         Sus barbatus         1       1         1          IUCN   \n",
      "\n",
      "      yrcompiled                                           citation  \\\n",
      "2535        2017               Scotson, L. and Fredriksson, G. 2016   \n",
      "9831        2017  IUCN (International Union for Conservation of ...   \n",
      "\n",
      "     subspecies subpop  ... marine terrestria freshwater  SHAPE_Leng  \\\n",
      "2535       None   None  ...  false       true      false  298.047663   \n",
      "9831   barbatus   None  ...  false       true      false  203.352979   \n",
      "\n",
      "      SHAPE_Area           area  \\\n",
      "2535   28.227425  347094.755252   \n",
      "9831   29.450292  362205.059335   \n",
      "\n",
      "                                                habitat altitude max_alt  \\\n",
      "2535          Forest, Shrubland, Artificial/Terrestrial      1.0  3000.0   \n",
      "9831  Forest, Wetlands (inland), Marine Neritic, Mar...      0.0     0.0   \n",
      "\n",
      "                                               geometry  \n",
      "2535  MULTIPOLYGON (((110.19774 -2.33307, 110.17772 ...  \n",
      "9831  MULTIPOLYGON (((112.55407 -3.22212, 112.51027 ...  \n",
      "\n",
      "[2 rows x 33 columns]\n"
     ]
    }
   ],
   "source": [
    "# Cek geometri yang tidak valid\n",
    "invalid = mammal[~mammal.is_valid]\n",
    "print(invalid)"
   ]
  },
  {
   "cell_type": "code",
   "execution_count": 12,
   "id": "ad719351-4855-4458-8882-b992134bb016",
   "metadata": {},
   "outputs": [],
   "source": [
    "# Select animals which presence is not extinct and resident through the year\n",
    "mammals_filtered = mammal[(mammal['presence'] != 5) & (mammal['seasonal'] == 1)].copy()"
   ]
  },
  {
   "cell_type": "code",
   "execution_count": 13,
   "id": "b28c0d17-8622-4c6e-b150-af9978c557eb",
   "metadata": {},
   "outputs": [
    {
     "data": {
      "text/plain": [
       "12450"
      ]
     },
     "execution_count": 13,
     "metadata": {},
     "output_type": "execute_result"
    }
   ],
   "source": [
    "len(mammals_filtered)"
   ]
  },
  {
   "cell_type": "code",
   "execution_count": null,
   "id": "75b3d724-82c0-40c8-8027-d9825adc0ba6",
   "metadata": {},
   "outputs": [],
   "source": [
    "from shapely.validation import make_valid\n",
    "\n",
    "mammals_filtered[\"geometry\"] = mammals_filtered[\"geometry\"].apply(make_valid)\n",
    "borneo_boundary[\"geometry\"] = borneo_boundary[\"geometry\"].apply(make_valid)"
   ]
  },
  {
   "cell_type": "code",
   "execution_count": null,
   "id": "914c6307-7c3e-4b51-9903-dfa18a082703",
   "metadata": {},
   "outputs": [],
   "source": [
    "mammals_borneo = gpd.clip(mammals_filtered, borneo_boundary)"
   ]
  },
  {
   "cell_type": "code",
   "execution_count": null,
   "id": "5a067377-782f-4c69-a42f-979612c32702",
   "metadata": {},
   "outputs": [],
   "source": [
    "# Plot the clipped layer\n",
    "mammals_borneo.plot(figsize=(10, 10), edgecolor='black', cmap='Set2')\n",
    "plt.title(\"Clipped Mammals Layer\")\n",
    "plt.xlabel(\"Longitude\")\n",
    "plt.ylabel(\"Latitude\")\n",
    "plt.show()"
   ]
  },
  {
   "cell_type": "code",
   "execution_count": null,
   "id": "b9ade93e-b61f-4d95-a061-d2185cdfd0bc",
   "metadata": {},
   "outputs": [],
   "source": [
    "# Select animals where yrcompiled > 2000 and category as CR, VU, EN\n",
    "mammals_threatened = mammals_borneo[\n",
    "    (mammals_borneo['category'].isin(['VU', 'CR', 'EN'])) &\n",
    "    (mammals_borneo['yrcompiled'] > 2000)\n",
    "].copy()"
   ]
  },
  {
   "cell_type": "code",
   "execution_count": null,
   "id": "494e48d8-a9d3-4c5e-bf17-9337383717f5",
   "metadata": {},
   "outputs": [],
   "source": [
    "len(mammals_threatened)"
   ]
  },
  {
   "cell_type": "code",
   "execution_count": null,
   "id": "94ea50a9-85d8-4e91-b7ee-cbd52794c88c",
   "metadata": {},
   "outputs": [],
   "source": [
    "# Reproject to Southeast Asia Albers Equal Area (ESRI:102025) in square metres\n",
    "mammals_borneo_proj = mammals_threatened.to_crs(\"ESRI:102025\")\n",
    "\n",
    "# Calculate area in square meters\n",
    "mammals_borneo_proj['area_m2'] = mammals_borneo_proj.geometry.area\n",
    "mammals_borneo_proj['area_km2'] = mammals_borneo_proj['area_m2'] / 1_000_000\n",
    "# Remove small areas possibly the result of clipping process\n",
    "mammals_borneo_proj = mammals_borneo_proj[mammals_borneo_proj['area_km2'] >= 80]"
   ]
  },
  {
   "cell_type": "code",
   "execution_count": null,
   "id": "f1ca2f61-af04-45fa-9edf-3701b4b6f52b",
   "metadata": {},
   "outputs": [],
   "source": [
    "print(mammals_borneo_proj.columns.to_list())"
   ]
  },
  {
   "cell_type": "code",
   "execution_count": null,
   "id": "ecef1ea0-0b77-4bca-8441-d9f536e627b0",
   "metadata": {},
   "outputs": [],
   "source": [
    "# Sort by SHAPE_Area in descending order\n",
    "mammals_sorted = mammals_borneo_proj.sort_values(by='area_km2', ascending=False)\n",
    "\n",
    "# Display selected columns\n",
    "#print(mammals_sorted[['sci_name', 'category', 'area_km2']])"
   ]
  },
  {
   "cell_type": "code",
   "execution_count": null,
   "id": "3f205d4f-ef58-4da0-914c-16db3e7e4421",
   "metadata": {},
   "outputs": [],
   "source": [
    "# Merged duplicate species name\n",
    "# Sort to keep largest area per species\n",
    "sorted_gdf = mammals_borneo_proj.sort_values('area_km2', ascending=False)\n",
    "\n",
    "# Group and pick first (largest area)\n",
    "mammals_merged = (\n",
    "    sorted_gdf\n",
    "    .groupby('sci_name', as_index=False)\n",
    "    .agg({\n",
    "        'category': lambda x: ', '.join(sorted(set(x))),\n",
    "        'yrcompiled': lambda x: ', '.join(map(str, sorted(set(x)))),\n",
    "        'area_km2': 'first',\n",
    "        'geometry': 'first'\n",
    "    })\n",
    ")\n",
    "\n",
    "# Convert to GeoDataFrame again\n",
    "import geopandas as gpd\n",
    "mammals_merged = gpd.GeoDataFrame(mammals_merged, geometry='geometry', crs=mammals_borneo_proj.crs)"
   ]
  },
  {
   "cell_type": "code",
   "execution_count": null,
   "id": "a167f91c-0f08-43bb-b6ef-620e903415d8",
   "metadata": {},
   "outputs": [],
   "source": [
    "# Sort by SHAPE_Area in descending order\n",
    "mammals_sort = mammals_merged.sort_values(by='sci_name', ascending=False)\n",
    "\n",
    "# Display selected columns\n",
    "#print(mammals_sort[['sci_name', 'category', 'yrcompiled', 'area_km2']])"
   ]
  },
  {
   "cell_type": "code",
   "execution_count": null,
   "id": "560923b7-ac41-4400-8ee9-616500b4d2d2",
   "metadata": {},
   "outputs": [],
   "source": [
    "len(mammals_merged)"
   ]
  },
  {
   "cell_type": "code",
   "execution_count": null,
   "id": "0f684ba2-f728-46f4-9faf-6089842f0b8b",
   "metadata": {},
   "outputs": [],
   "source": [
    "iucn_data = pd.read_excel('mammals_database.xls')"
   ]
  },
  {
   "cell_type": "code",
   "execution_count": null,
   "id": "518ccdd8-8546-40bf-9fc3-795a0976d3c6",
   "metadata": {},
   "outputs": [],
   "source": [
    "mammal_aoh = mammals_merged.merge(iucn_data, on = 'sci_name', how = 'left')"
   ]
  },
  {
   "cell_type": "code",
   "execution_count": null,
   "id": "61248b99-a9a2-4fc6-ac43-db60c9ae4df6",
   "metadata": {},
   "outputs": [],
   "source": [
    "mammal_aoh= mammal_aoh.dropna(subset=['max_alt'])"
   ]
  },
  {
   "cell_type": "code",
   "execution_count": null,
   "id": "d99254a4-4a1c-48d7-972a-ae3eb2e69288",
   "metadata": {},
   "outputs": [],
   "source": [
    "len(mammal_aoh)"
   ]
  },
  {
   "cell_type": "code",
   "execution_count": null,
   "id": "7ee51519-6b9f-4b38-9c64-56c3e120cd50",
   "metadata": {},
   "outputs": [],
   "source": [
    "#mammals_merged.to_file(\"mammals_merged.gpkg\", driver = \"GPKG\")"
   ]
  },
  {
   "cell_type": "code",
   "execution_count": null,
   "id": "13c756ef-8a83-4bc1-ac93-fcd0f6d9586b",
   "metadata": {},
   "outputs": [],
   "source": [
    "mammal_aoh.to_file(\"mammal_aoh.shp\")"
   ]
  },
  {
   "cell_type": "markdown",
   "id": "e2645fac-f376-4362-bfa2-793cf21c2952",
   "metadata": {},
   "source": [
    "### Clipping Birds with Borneo Boundary"
   ]
  },
  {
   "cell_type": "code",
   "execution_count": null,
   "id": "6106a708-041c-43f6-8d1d-21e40c6f37b2",
   "metadata": {},
   "outputs": [],
   "source": [
    "# Invalid Geometry\n",
    "invalid_bird = bird[~bird.is_valid]\n",
    "print(invalid1)"
   ]
  },
  {
   "cell_type": "code",
   "execution_count": null,
   "id": "d7975c12-838d-4b91-bed4-c0abacc324f8",
   "metadata": {},
   "outputs": [],
   "source": [
    "bird_borneo = gpd.clip(bird, borneo_boundary)"
   ]
  },
  {
   "cell_type": "code",
   "execution_count": null,
   "id": "7229fdbe-ea67-4487-af17-5331912a4105",
   "metadata": {},
   "outputs": [],
   "source": [
    "len(bird_borneo)"
   ]
  },
  {
   "cell_type": "code",
   "execution_count": null,
   "id": "24f24f21-2ef4-47a3-a19f-c2627ba9586a",
   "metadata": {},
   "outputs": [],
   "source": [
    "# Plot the clipped layer\n",
    "bird_borneo.plot(figsize=(10, 10), edgecolor='black', cmap='Set2')\n",
    "plt.title(\"Clipped bird Layer\")\n",
    "plt.xlabel(\"Longitude\")\n",
    "plt.ylabel(\"Latitude\")\n",
    "plt.show()"
   ]
  },
  {
   "cell_type": "code",
   "execution_count": null,
   "id": "63a7646f-fe39-4856-a0ac-62c0b74c7be2",
   "metadata": {},
   "outputs": [],
   "source": [
    "# Select animals which presence is not extinct and resident through the year\n",
    "bird_borneo_f = bird_borneo[(bird_borneo['presence'] != 5) & (bird_borneo['seasonal'] == 1) & (bird_borneo['yrcompiled'] > 2000)].copy()"
   ]
  },
  {
   "cell_type": "code",
   "execution_count": null,
   "id": "0fd513ad-21a2-4e58-8c08-e35660faa96f",
   "metadata": {},
   "outputs": [],
   "source": [
    "iucn_data_bird = pd.read_excel('birds_iucn_taxonomy.xls')"
   ]
  },
  {
   "cell_type": "code",
   "execution_count": null,
   "id": "f991b5b2-17f3-404e-a28e-18a5a8300b01",
   "metadata": {},
   "outputs": [],
   "source": [
    "bird_aoh = bird_borneo_f.merge(iucn_data_bird, on = 'sci_name', how = 'left')"
   ]
  },
  {
   "cell_type": "code",
   "execution_count": null,
   "id": "588c15be-9073-44f5-9ec5-67686d0a193e",
   "metadata": {},
   "outputs": [],
   "source": [
    "birds_threatened_aoh = bird_aoh[bird_aoh['iucn_category'].isin(['VU', 'CR', 'EN'])].copy()"
   ]
  },
  {
   "cell_type": "code",
   "execution_count": null,
   "id": "7e7715ca-1b33-4830-9aac-aabc15d0cd1d",
   "metadata": {},
   "outputs": [],
   "source": [
    "len(birds_threatened_aoh)"
   ]
  },
  {
   "cell_type": "code",
   "execution_count": null,
   "id": "fd02e322-d5e5-4713-8dfd-dad5309a37a0",
   "metadata": {},
   "outputs": [],
   "source": [
    "# Reproject to Southeast Asia Albers Equal Area (ESRI:102025) in square metres\n",
    "bird_proj = birds_threatened_aoh.to_crs(\"ESRI:102025\")\n",
    "\n",
    "# Calculate area in square meters\n",
    "bird_proj['area_m2'] = bird_proj.geometry.area\n",
    "bird_proj['area_km2'] = bird_proj['area_m2'] / 1_000_000"
   ]
  },
  {
   "cell_type": "code",
   "execution_count": null,
   "id": "57e44bb6-8219-48c5-b66d-963417200ea7",
   "metadata": {},
   "outputs": [],
   "source": [
    "# Merged duplicate species name\n",
    "# Sort to keep largest area per species\n",
    "bird_gdf = bird_proj.sort_values('area_km2', ascending=False)\n",
    "\n",
    "# Group and pick first (largest area)\n",
    "bird_merged = (\n",
    "    bird_gdf\n",
    "    .groupby('sci_name', as_index=False)\n",
    "    .agg({\n",
    "        'iucn_category': lambda x: ', '.join(sorted(set(x))),\n",
    "        'yrcompiled': lambda x: ', '.join(map(str, sorted(set(x)))),\n",
    "        'area_km2': 'first',\n",
    "        'geometry': 'first'\n",
    "    })\n",
    ")\n",
    "\n",
    "# Convert to GeoDataFrame again\n",
    "import geopandas as gpd\n",
    "bird_merged = gpd.GeoDataFrame(bird_merged, geometry='geometry', crs=bird_proj.crs)"
   ]
  },
  {
   "cell_type": "code",
   "execution_count": null,
   "id": "c3cfee4f-98eb-43cc-a476-1d4e586fe8e5",
   "metadata": {},
   "outputs": [],
   "source": [
    "# Sort by SHAPE_Area in descending order\n",
    "bird_sort = bird_merged.sort_values(by='area_km2', ascending=False)\n",
    "\n",
    "# Display selected columns\n",
    "print(bird_sort[['sci_name', 'iucn_category', 'yrcompiled', 'area_km2']])"
   ]
  },
  {
   "cell_type": "code",
   "execution_count": null,
   "id": "1f3f3251-b45a-4c62-9028-e351c4bf0435",
   "metadata": {},
   "outputs": [],
   "source": [
    "altitude = pd.read_excel('birds_database.xls')"
   ]
  },
  {
   "cell_type": "code",
   "execution_count": null,
   "id": "4ca2f7b0-debb-44d9-a279-9be9f00f5a7f",
   "metadata": {},
   "outputs": [],
   "source": [
    "aoh_bird = bird_merged.merge(altitude, on = 'sci_name', how = 'left')"
   ]
  },
  {
   "cell_type": "code",
   "execution_count": null,
   "id": "4a747497-34d5-4a01-9d78-e7cffc5d27a7",
   "metadata": {},
   "outputs": [],
   "source": [
    "print(aoh_bird)"
   ]
  },
  {
   "cell_type": "code",
   "execution_count": null,
   "id": "b11e14a5-7631-4c97-be51-c74f13f3f340",
   "metadata": {},
   "outputs": [],
   "source": [
    "aoh_bird= aoh_bird.dropna(subset=['max_alt'])\n",
    "len(aoh_bird)"
   ]
  },
  {
   "cell_type": "code",
   "execution_count": null,
   "id": "576743f3-b245-43b0-a1bf-54a1abd43b0e",
   "metadata": {},
   "outputs": [],
   "source": [
    "aoh_bird.to_file(\"aoh_bird.shp\")"
   ]
  },
  {
   "cell_type": "markdown",
   "id": "8f4405bc-32f5-450e-95b8-acba43b410f5",
   "metadata": {},
   "source": [
    "## Working with Planted Forest Dataset"
   ]
  },
  {
   "cell_type": "markdown",
   "id": "8e7ffb88-55ab-499e-bf48-3b48132dcd3b",
   "metadata": {},
   "source": [
    "What I do here:\n",
    "1) Note: There are several invalid geomtries for this SDPT dataset. I try to use shapely and initially wanted to do clipping in python, but the operation takes too long, so I used GIS desktop software to clip the data into Borneo Boundary\n",
    "2) Perform filtering trees that are planted before and equal to year 2017 as a planted trees for 2017 and use the SDPT V21 official dataset in 2020 as planted trees for 2020.\n",
    "3) I rasterize them here with output of 30 x 30 pixels, matching Hansen Forest Loss Dataset and compressed them before uploaded into GEE asset"
   ]
  },
  {
   "cell_type": "code",
   "execution_count": 4,
   "id": "02e48088-f50c-443b-8cc4-98a33a090afe",
   "metadata": {},
   "outputs": [
    {
     "data": {
      "text/plain": [
       "'C:\\\\Users\\\\nooriza maharani\\\\Documents\\\\Dissertation'"
      ]
     },
     "execution_count": 4,
     "metadata": {},
     "output_type": "execute_result"
    }
   ],
   "source": [
    "os.getcwd()"
   ]
  },
  {
   "cell_type": "code",
   "execution_count": 5,
   "id": "661dc3c3-6c14-4dd0-bef4-ae7719c5a299",
   "metadata": {},
   "outputs": [],
   "source": [
    "#sdpt = gpd.read_file(\"sdpt_idn_plant_v21.shp\")"
   ]
  },
  {
   "cell_type": "code",
   "execution_count": 14,
   "id": "979d5070-55af-4023-9cbc-54922e4683b3",
   "metadata": {},
   "outputs": [
    {
     "name": "stdout",
     "output_type": "stream",
     "text": [
      "        OBJECTID final_id iso3 iso2    country  \\\n",
      "88          89.0   IDN_38  IDN   ID  Indonesia   \n",
      "89          90.0   IDN_38  IDN   ID  Indonesia   \n",
      "102        103.0   IDN_38  IDN   ID  Indonesia   \n",
      "105        106.0   IDN_38  IDN   ID  Indonesia   \n",
      "107        108.0   IDN_38  IDN   ID  Indonesia   \n",
      "...          ...      ...  ...  ...        ...   \n",
      "953347  953348.0  IDN_203  IDN   ID  Indonesia   \n",
      "953355  953356.0  IDN_203  IDN   ID  Indonesia   \n",
      "953359  953360.0  IDN_203  IDN   ID  Indonesia   \n",
      "953361  953362.0  IDN_203  IDN   ID  Indonesia   \n",
      "953365  953366.0  IDN_203  IDN   ID  Indonesia   \n",
      "\n",
      "                                               originalNa  originalCo  \\\n",
      "88      Large industrial plantation, Oil palm, transpa...          38   \n",
      "89      Large industrial plantation, Oil palm, transpa...          38   \n",
      "102     Large industrial plantation, Oil palm, transpa...          38   \n",
      "105     Large industrial plantation, Oil palm, transpa...          38   \n",
      "107     Large industrial plantation, Oil palm, transpa...          38   \n",
      "...                                                   ...         ...   \n",
      "953347                                             Rubber           3   \n",
      "953355                                             Rubber           3   \n",
      "953359                                             Rubber           3   \n",
      "953361                                             Rubber           3   \n",
      "953365                                             Rubber           3   \n",
      "\n",
      "        finalCode vernacName             sciName  ... removalF_2 removalF_3  \\\n",
      "88             38   Oil palm   Elaeis guineensis  ...        2.4      0.984   \n",
      "89             38   Oil palm   Elaeis guineensis  ...        2.4      0.984   \n",
      "102            38   Oil palm   Elaeis guineensis  ...        2.4      0.984   \n",
      "105            38   Oil palm   Elaeis guineensis  ...        2.4      0.984   \n",
      "107            38   Oil palm   Elaeis guineensis  ...        2.4      0.984   \n",
      "...           ...        ...                 ...  ...        ...        ...   \n",
      "953347        203     Rubber  Hevea brasiliensis  ...        3.0      0.390   \n",
      "953355        203     Rubber  Hevea brasiliensis  ...        3.0      0.390   \n",
      "953359        203     Rubber  Hevea brasiliensis  ...        3.0      0.390   \n",
      "953361        203     Rubber  Hevea brasiliensis  ...        3.0      0.390   \n",
      "953365        203     Rubber  Hevea brasiliensis  ...        3.0      0.390   \n",
      "\n",
      "                                     removalF_4  \\\n",
      "88      IPCC 2019 Refinement Cropland Table 5.3   \n",
      "89      IPCC 2019 Refinement Cropland Table 5.3   \n",
      "102     IPCC 2019 Refinement Cropland Table 5.3   \n",
      "105     IPCC 2019 Refinement Cropland Table 5.3   \n",
      "107     IPCC 2019 Refinement Cropland Table 5.3   \n",
      "...                                         ...   \n",
      "953347  IPCC 2019 Refinement Cropland Table 5.3   \n",
      "953355  IPCC 2019 Refinement Cropland Table 5.3   \n",
      "953359  IPCC 2019 Refinement Cropland Table 5.3   \n",
      "953361  IPCC 2019 Refinement Cropland Table 5.3   \n",
      "953365  IPCC 2019 Refinement Cropland Table 5.3   \n",
      "\n",
      "                                               removalF_5  \\\n",
      "88      Standard deviation calculated from uncertainty...   \n",
      "89      Standard deviation calculated from uncertainty...   \n",
      "102     Standard deviation calculated from uncertainty...   \n",
      "105     Standard deviation calculated from uncertainty...   \n",
      "107     Standard deviation calculated from uncertainty...   \n",
      "...                                                   ...   \n",
      "953347  Standard deviation calculated from uncertainty...   \n",
      "953355  Standard deviation calculated from uncertainty...   \n",
      "953359  Standard deviation calculated from uncertainty...   \n",
      "953361  Standard deviation calculated from uncertainty...   \n",
      "953365  Standard deviation calculated from uncertainty...   \n",
      "\n",
      "                                               removalF_6 removalF_7  \\\n",
      "88      Oil palm default rate: AGB 2.4 +/- 41% t C/ha/...   Tropical   \n",
      "89      Oil palm default rate: AGB 2.4 +/- 41% t C/ha/...   Tropical   \n",
      "102     Oil palm default rate: AGB 2.4 +/- 41% t C/ha/...   Tropical   \n",
      "105     Oil palm default rate: AGB 2.4 +/- 41% t C/ha/...   Tropical   \n",
      "107     Oil palm default rate: AGB 2.4 +/- 41% t C/ha/...   Tropical   \n",
      "...                                                   ...        ...   \n",
      "953347  Tropical rubber default rate: AGB 3.0 +/- 0 13...   Tropical   \n",
      "953355  Tropical rubber default rate: AGB 3.0 +/- 0 13...   Tropical   \n",
      "953359  Tropical rubber default rate: AGB 3.0 +/- 0 13...   Tropical   \n",
      "953361  Tropical rubber default rate: AGB 3.0 +/- 0 13...   Tropical   \n",
      "953365  Tropical rubber default rate: AGB 3.0 +/- 0 13...   Tropical   \n",
      "\n",
      "       plantedYea Shape_Leng Shape_Area  \\\n",
      "88         1992.0   0.554211   0.001901   \n",
      "89         2014.0   0.074046   0.000075   \n",
      "102        2013.0   0.029466   0.000019   \n",
      "105        2018.0   0.099692   0.000078   \n",
      "107        2014.0   0.057978   0.000053   \n",
      "...           ...        ...        ...   \n",
      "953347     1998.0   8.780332   0.000764   \n",
      "953355     2005.0  10.701438   0.000963   \n",
      "953359     2005.0   8.949179   0.000768   \n",
      "953361     2000.0  11.667883   0.000968   \n",
      "953365     1998.0   3.101016   0.000275   \n",
      "\n",
      "                                                 geometry  \n",
      "88      POLYGON ((113.96102 -3.29797, 113.96102 -3.297...  \n",
      "89      POLYGON ((113.68978 -3.18617, 113.68977 -3.187...  \n",
      "102     POLYGON ((113.75512 -3.06555, 113.75674 -3.065...  \n",
      "105     POLYGON ((114.24319 -3.02885, 114.24319 -3.029...  \n",
      "107     POLYGON ((113.86892 -3.0001, 113.86946 -3.0001...  \n",
      "...                                                   ...  \n",
      "953347  MULTIPOLYGON (((117.16331 -0.69745, 117.16304 ...  \n",
      "953355  MULTIPOLYGON (((119.5513 -1.80157, 119.55103 -...  \n",
      "953359  MULTIPOLYGON (((119.69602 -1.44961, 119.69548 ...  \n",
      "953361  MULTIPOLYGON (((120.35925 -1.18077, 120.35898 ...  \n",
      "953365  MULTIPOLYGON (((120.21588 0.66215, 120.21561 0...  \n",
      "\n",
      "[14415 rows x 45 columns]\n"
     ]
    }
   ],
   "source": [
    "# Invalid Geometry\n",
    "invalid_sdpt = sdpt[~sdpt.is_valid]\n",
    "print(invalid_sdpt)"
   ]
  },
  {
   "cell_type": "code",
   "execution_count": 7,
   "id": "037a6ee7-9d87-43fc-accc-91b86c8f2191",
   "metadata": {},
   "outputs": [
    {
     "name": "stderr",
     "output_type": "stream",
     "text": [
      "\n",
      "KeyboardInterrupt\n",
      "\n"
     ]
    }
   ],
   "source": [
    "# RUn this but takes too long, so I prefer using QGIS to clip the planted forest\n",
    "#from shapely.validation import make_valid\n",
    "#sdpt[\"geometry\"] = sdpt[\"geometry\"].apply(make_valid)"
   ]
  },
  {
   "cell_type": "code",
   "execution_count": 9,
   "id": "4424ee81-be0d-4669-aa83-616c31681b46",
   "metadata": {},
   "outputs": [],
   "source": [
    "borneo_sdpt = gpd.read_file('planted_crops.shp')"
   ]
  },
  {
   "cell_type": "code",
   "execution_count": 11,
   "id": "ce8adaa0-9f21-45c9-9427-d7fabcf7c52a",
   "metadata": {},
   "outputs": [
    {
     "data": {
      "text/plain": [
       "<Geographic 2D CRS: EPSG:4326>\n",
       "Name: WGS 84\n",
       "Axis Info [ellipsoidal]:\n",
       "- Lat[north]: Geodetic latitude (degree)\n",
       "- Lon[east]: Geodetic longitude (degree)\n",
       "Area of Use:\n",
       "- name: World.\n",
       "- bounds: (-180.0, -90.0, 180.0, 90.0)\n",
       "Datum: World Geodetic System 1984 ensemble\n",
       "- Ellipsoid: WGS 84\n",
       "- Prime Meridian: Greenwich"
      ]
     },
     "execution_count": 11,
     "metadata": {},
     "output_type": "execute_result"
    }
   ],
   "source": [
    "borneo_sdpt.crs"
   ]
  },
  {
   "cell_type": "code",
   "execution_count": 16,
   "id": "2ebe8926-9c06-452d-9318-4fa8240f7339",
   "metadata": {},
   "outputs": [],
   "source": [
    "# Reproject to Southeast Asia Albers Equal Area (ESRI:102025) in square metres\n",
    "borneo_sdpt_proj = borneo_sdpt.to_crs(\"ESRI:102025\")"
   ]
  },
  {
   "cell_type": "code",
   "execution_count": 18,
   "id": "7145bfa0-8057-41b4-b21e-97f158864f72",
   "metadata": {},
   "outputs": [
    {
     "data": {
      "text/plain": [
       "Index(['FID', 'OBJECTID', 'final_id', 'iso3', 'iso2', 'country', 'originalNa',\n",
       "       'originalCo', 'finalCode', 'vernacName', 'sciName', 'simpleName',\n",
       "       'sciName1', 'sciName2', 'sciName3', 'sciName4', 'sciName5', 'sciName6',\n",
       "       'sciName7', 'sciName8', 'sciName9', 'sciName10', 'sciName11',\n",
       "       'sciName12', 'sciName13', 'simpleType', 'leafStatus', 'leafType',\n",
       "       'woodType', 'sizeCatego', 'ownership', 'reference', 'imageryYea',\n",
       "       'method', 'removalFac', 'removalF_1', 'removalF_2', 'removalF_3',\n",
       "       'removalF_4', 'removalF_5', 'removalF_6', 'removalF_7', 'plantedYea',\n",
       "       'Shape_Leng', 'Shape_Area', 'geometry'],\n",
       "      dtype='object')"
      ]
     },
     "execution_count": 18,
     "metadata": {},
     "output_type": "execute_result"
    }
   ],
   "source": [
    "borneo_sdpt_proj.columns"
   ]
  },
  {
   "cell_type": "code",
   "execution_count": 20,
   "id": "e0f4c475-d1fa-4799-910a-2d23902acb66",
   "metadata": {},
   "outputs": [
    {
     "data": {
      "text/plain": [
       "706313"
      ]
     },
     "execution_count": 20,
     "metadata": {},
     "output_type": "execute_result"
    }
   ],
   "source": [
    "len(borneo_sdpt_proj)"
   ]
  },
  {
   "cell_type": "code",
   "execution_count": 24,
   "id": "5c9f5b2c-1083-4b28-a311-0285bd3e96c5",
   "metadata": {},
   "outputs": [],
   "source": [
    "sdpt_2017 = borneo_sdpt_proj[borneo_sdpt_proj['plantedYea'] <= 2017]"
   ]
  },
  {
   "cell_type": "code",
   "execution_count": 26,
   "id": "cc2513e2-cc0b-4daf-9187-f9865e6c1a90",
   "metadata": {},
   "outputs": [
    {
     "data": {
      "text/plain": [
       "646733"
      ]
     },
     "execution_count": 26,
     "metadata": {},
     "output_type": "execute_result"
    }
   ],
   "source": [
    "len(sdpt_2017)"
   ]
  },
  {
   "cell_type": "code",
   "execution_count": 28,
   "id": "4f92134f-5aee-4620-97bf-de7f613f02d4",
   "metadata": {},
   "outputs": [],
   "source": [
    "#sdpt_2017.to_file('sdpt_2017.shp')\n",
    "#borneo_sdpt_proj.to_file('sdpt_2020.shp')"
   ]
  },
  {
   "cell_type": "code",
   "execution_count": 32,
   "id": "7136fd9b-6b65-41f9-8139-ec28882b14cd",
   "metadata": {},
   "outputs": [
    {
     "name": "stdout",
     "output_type": "stream",
     "text": [
      "Requirement already satisfied: geopandas in c:\\anaconda\\lib\\site-packages (1.0.1)\n",
      "Requirement already satisfied: rasterio in c:\\anaconda\\lib\\site-packages (1.4.3)\n",
      "Note: you may need to restart the kernel to use updated packages.\n"
     ]
    },
    {
     "name": "stderr",
     "output_type": "stream",
     "text": [
      "ERROR: Could not find a version that satisfies the requirement rasterio.features (from versions: none)\n",
      "ERROR: No matching distribution found for rasterio.features\n"
     ]
    }
   ],
   "source": [
    "pip install geopandas rasterio rasterio.features"
   ]
  },
  {
   "cell_type": "code",
   "execution_count": 34,
   "id": "2b86f48b-28ff-4104-aab8-829f72378594",
   "metadata": {},
   "outputs": [],
   "source": [
    "# Changing vector file into raster in 30x30\n",
    "import rasterio\n",
    "from rasterio.features import rasterize\n",
    "from rasterio.transform import from_bounds\n",
    "import numpy as np\n",
    "\n",
    "# Define raster resolution and bounds\n",
    "resolution = 30  # in the units of  CRS (meters)\n",
    "bounds = sdpt_2017.total_bounds  # [minx, miny, maxx, maxy]\n",
    "\n",
    "width = int((bounds[2] - bounds[0]) / resolution)\n",
    "height = int((bounds[3] - bounds[1]) / resolution)\n",
    "\n",
    "transform = from_bounds(*bounds, width=width, height=height)\n",
    "\n",
    "# Create (geometry, value) pairs — all values set to 1 (plantation)\n",
    "shapes = [(geom, 1) for geom in sdpt_2017.geometry]\n",
    "\n",
    "# Rasterize\n",
    "raster = rasterize(\n",
    "    shapes,\n",
    "    out_shape=(height, width),\n",
    "    transform=transform,\n",
    "    fill=0,  # 0 = no plantation\n",
    "    dtype='uint8'\n",
    ")\n",
    "\n",
    "# Save as GeoTIFF\n",
    "with rasterio.open(\n",
    "    'plantation_2017.tif',\n",
    "    'w',\n",
    "    driver='GTiff',\n",
    "    height=height,\n",
    "    width=width,\n",
    "    count=1,\n",
    "    dtype='uint8',\n",
    "    crs=sdpt_2017.crs,\n",
    "    transform=transform,\n",
    ") as dst:\n",
    "    dst.write(raster, 1)\n"
   ]
  },
  {
   "cell_type": "code",
   "execution_count": 38,
   "id": "874228bc-38c2-4f73-b296-2c6c51a0e631",
   "metadata": {},
   "outputs": [],
   "source": [
    "# Changing vector file into raster in 30x30\n",
    "import rasterio\n",
    "from rasterio.features import rasterize\n",
    "from rasterio.transform import from_bounds\n",
    "import numpy as np\n",
    "\n",
    "# Define raster resolution and bounds\n",
    "resolution = 30  # in the units of your CRS (e.g., meters)\n",
    "bounds = borneo_sdpt_proj.total_bounds  # [minx, miny, maxx, maxy]\n",
    "\n",
    "width = int((bounds[2] - bounds[0]) / resolution)\n",
    "height = int((bounds[3] - bounds[1]) / resolution)\n",
    "\n",
    "transform = from_bounds(*bounds, width=width, height=height)\n",
    "\n",
    "# Create (geometry, value) pairs — all values set to 1 (plantation)\n",
    "shapes = [(geom, 1) for geom in borneo_sdpt_proj.geometry]\n",
    "\n",
    "# Rasterize\n",
    "raster = rasterize(\n",
    "    shapes,\n",
    "    out_shape=(height, width),\n",
    "    transform=transform,\n",
    "    fill=0,  # 0 = no plantation\n",
    "    dtype='uint8'\n",
    ")\n",
    "\n",
    "# Save as GeoTIFF\n",
    "with rasterio.open(\n",
    "    'plantation_2020.tif',\n",
    "    'w',\n",
    "    driver='GTiff',\n",
    "    height=height,\n",
    "    width=width,\n",
    "    count=1,\n",
    "    dtype='uint8',\n",
    "    crs=sdpt_2017.crs,\n",
    "    transform=transform,\n",
    ") as dst:\n",
    "    dst.write(raster, 1)\n"
   ]
  },
  {
   "cell_type": "code",
   "execution_count": 42,
   "id": "8f27f83d-1122-4684-9df8-b7f3b42f61dc",
   "metadata": {},
   "outputs": [
    {
     "name": "stdout",
     "output_type": "stream",
     "text": [
      "Input file size is 40582, 29940\n",
      "0...10...20...30...40...50...60...70...80...90...100 - done in 00:00:11.\n"
     ]
    }
   ],
   "source": [
    "# Compress the geotiff output\n",
    "!gdal_translate -co COMPRESS=LZW -co TILED=YES plantation_2017.tif output_compressed.tif"
   ]
  },
  {
   "cell_type": "code",
   "execution_count": 44,
   "id": "fd41edd1-45f5-4dd6-ac21-e261a7a2d58e",
   "metadata": {},
   "outputs": [
    {
     "name": "stdout",
     "output_type": "stream",
     "text": [
      "Same shape? True\n",
      "All values equal? True\n"
     ]
    }
   ],
   "source": [
    "# Check whether the original raster similar in shape and value with compressed raster\n",
    "with rasterio.open(\"plantation_2017.tif\") as src1, rasterio.open(\"output_compressed.tif\") as src2:\n",
    "    data1 = src1.read(1)\n",
    "    data2 = src2.read(1)\n",
    "\n",
    "    print(\"Same shape?\", data1.shape == data2.shape)\n",
    "    print(\"All values equal?\", np.array_equal(data1, data2))\n"
   ]
  },
  {
   "cell_type": "code",
   "execution_count": 49,
   "id": "48d419d0-c0fa-4fbc-853d-c23b96637a49",
   "metadata": {},
   "outputs": [
    {
     "name": "stdout",
     "output_type": "stream",
     "text": [
      "Input file size is 40582, 29940\n",
      "0...10...20...30...40...50...60...70...80...90...100 - done in 00:00:12.\n"
     ]
    }
   ],
   "source": [
    "# Compress the geotiff output\n",
    "!gdal_translate -co COMPRESS=LZW -co TILED=YES plantation_2020.tif output_compressed_2020.tif"
   ]
  },
  {
   "cell_type": "code",
   "execution_count": 59,
   "id": "94ecc8c8-1a20-46cd-9642-9ee666034ccf",
   "metadata": {},
   "outputs": [
    {
     "name": "stdout",
     "output_type": "stream",
     "text": [
      "Same shape? True\n",
      "All values equal? True\n"
     ]
    }
   ],
   "source": [
    "# Check whether the original raster similar in shape and value with compressed raster\n",
    "with rasterio.open(\"plantation_2020.tif\") as src1, rasterio.open(\"output_compressed_2020.tif\") as src2:\n",
    "    data1 = src1.read(1)\n",
    "    data2 = src2.read(1)\n",
    "\n",
    "    print(\"Same shape?\", data1.shape == data2.shape)\n",
    "    print(\"All values equal?\", np.array_equal(data1, data2))\n"
   ]
  }
 ],
 "metadata": {
  "kernelspec": {
   "display_name": "Python 3 (ipykernel)",
   "language": "python",
   "name": "python3"
  },
  "language_info": {
   "codemirror_mode": {
    "name": "ipython",
    "version": 3
   },
   "file_extension": ".py",
   "mimetype": "text/x-python",
   "name": "python",
   "nbconvert_exporter": "python",
   "pygments_lexer": "ipython3",
   "version": "3.12.3"
  }
 },
 "nbformat": 4,
 "nbformat_minor": 5
}
