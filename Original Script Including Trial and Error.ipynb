{
 "cells": [
  {
   "cell_type": "markdown",
   "id": "be8fa126-de06-434d-95f3-1e75311792af",
   "metadata": {},
   "source": [
    "# Script for Pre-processing Dataset "
   ]
  },
  {
   "cell_type": "markdown",
   "id": "a75e241f-5829-45b1-950f-fd17c136cf86",
   "metadata": {},
   "source": [
    "This script is created with intention to document steps in preparing dataset to do forest loss analysis. There are 3 outcomes generated from this script. They are:\n",
    "1) Terrestrial Mammals Area of Habitat Based on IUCN Red List Category listed as Critically Endangered, Endangered, and Vulnerable (shp format)\n",
    "2) Birds Area of Habitat from Birdllife with Red List Category from IUCN (shp format)\n",
    "3) Planted Trees 2017 and 2020 (Following WRI definition) (tif format)"
   ]
  },
  {
   "cell_type": "markdown",
   "id": "58e16510-c411-43f0-808d-5925e7fe5bb2",
   "metadata": {},
   "source": [
    "## Preparing Area of Habitat (AOH) Mammals & Birds"
   ]
  },
  {
   "cell_type": "markdown",
   "id": "ebad1a90-9488-4cac-b77f-17511d7cf943",
   "metadata": {},
   "source": [
    "Dataset used here:\n",
    "1) Terrestrial mammal area of habitat (IUCN) available at https://www.iucnredlist.org/resources/spatial-data-download (1 July 2025)\n",
    "3) Bird Species' Area of Habitat (AOH) maps  requested from https://datazone.birdlife.org/contact-us/request-our-data (1 July 2025)\n",
    "4) All species' habitat, minimum and maximum altitude are collected through IUCN Redlist Webpage by entering species' name one by one (July 2025), saved here with mammals_database.xls & bird_database.xls\n",
    "5) Bird' IUCN redlist category available at https://datazone.birdlife.org/about-our-science/taxonomy (25 July 2025) named here as bird_iucn_taxonomy.xls file\n",
    "6) Spatial Database of Planted Forest (WRI) https://www.wri.org/research/spatial-database-planted-trees-sdpt-version-2 (July 2025) downloaded from \n",
    "   https://gfw-files.s3.amazonaws.com/plantations/SDPT_v2.1/sdpt_v21_v09152024_public.gdb.zip, I export the shp using QGIS (I try to be consistent in using python but always fail when opening using fiona, using Rstudio took a very long, using Arcgis got warning issues)\n",
    "8) Borneo Boundary (gadm41_Borneo_IDN_1) downloaded at https://gadm.org/ simplify vertex at 200m using ArcgisPro, explode and delete small-scattered islands except :\n",
    "   - Maya Karimata island -1.1114594, 109.5900927 & -0.807859, 109.441845\n",
    "   - Laut Selatan island -3.67704706, 116.1493258\n",
    "   - Sebuku island -3.515927, 116.3694682\n",
    "   - Mahakam Delta -0.663428, 117.401863\n",
    "   - and Bulungan River Estuary 3.027885, 117.468919"
   ]
  },
  {
   "cell_type": "code",
   "execution_count": 1,
   "id": "cc385175-359b-4ba3-9b42-0694dcac0589",
   "metadata": {},
   "outputs": [],
   "source": [
    "import numpy as np\n",
    "import matplotlib as plt\n",
    "import geopandas as gpd\n",
    "import os\n",
    "import pandas as pd"
   ]
  },
  {
   "cell_type": "code",
   "execution_count": 3,
   "id": "3b1956dd-c649-495d-8c4b-5ad532254df3",
   "metadata": {},
   "outputs": [
    {
     "data": {
      "text/plain": [
       "'C:\\\\Users\\\\nooriza maharani\\\\Documents\\\\Dissertation'"
      ]
     },
     "execution_count": 3,
     "metadata": {},
     "output_type": "execute_result"
    }
   ],
   "source": [
    "os.getcwd()"
   ]
  },
  {
   "cell_type": "code",
   "execution_count": 5,
   "id": "406b8d5e-8af1-49c3-9ae3-1477dd84242d",
   "metadata": {},
   "outputs": [],
   "source": [
    "borneo_boundary = gpd.read_file('gadm41_Borneo.shp')"
   ]
  },
  {
   "cell_type": "code",
   "execution_count": 7,
   "id": "0eec6df6-59f5-41e3-a012-cd562987517c",
   "metadata": {},
   "outputs": [],
   "source": [
    "mammal = gpd.read_file('MAMMALS_TERRESTRIAL_ONLY.shp')"
   ]
  },
  {
   "cell_type": "code",
   "execution_count": 8,
   "id": "22cf49a4-a0de-48c8-b470-8dadc052bb6e",
   "metadata": {},
   "outputs": [
    {
     "name": "stderr",
     "output_type": "stream",
     "text": [
      "C:\\Anaconda\\Lib\\site-packages\\pyogrio\\geopandas.py:275: UserWarning: More than one layer found in 'BOTW_2024_2.gpkg': 'all_species' (default), 'main_BL_HBW_Checklist_V9'. Specify layer parameter to avoid this warning.\n",
      "  result = read_func(\n"
     ]
    }
   ],
   "source": [
    "bird = gpd.read_file('BOTW_2024_2.gpkg')"
   ]
  },
  {
   "cell_type": "code",
   "execution_count": 6,
   "id": "030ba9b8-b020-4ac9-9664-854ba88e6746",
   "metadata": {},
   "outputs": [
    {
     "name": "stdout",
     "output_type": "stream",
     "text": [
      "['all_species', 'main_BL_HBW_Checklist_V9']\n"
     ]
    }
   ],
   "source": [
    "import fiona\n",
    "\n",
    "# List all layers in the GPKG file\n",
    "layers = fiona.listlayers(\"BOTW_2024_2.gpkg\")\n",
    "print(layers)"
   ]
  },
  {
   "cell_type": "code",
   "execution_count": 7,
   "id": "e094c265-8cf7-4130-9a99-145b040ebada",
   "metadata": {},
   "outputs": [
    {
     "data": {
      "text/plain": [
       "<Geographic 2D CRS: EPSG:4326>\n",
       "Name: WGS 84\n",
       "Axis Info [ellipsoidal]:\n",
       "- Lat[north]: Geodetic latitude (degree)\n",
       "- Lon[east]: Geodetic longitude (degree)\n",
       "Area of Use:\n",
       "- name: World.\n",
       "- bounds: (-180.0, -90.0, 180.0, 90.0)\n",
       "Datum: World Geodetic System 1984 ensemble\n",
       "- Ellipsoid: WGS 84\n",
       "- Prime Meridian: Greenwich"
      ]
     },
     "execution_count": 7,
     "metadata": {},
     "output_type": "execute_result"
    }
   ],
   "source": [
    "borneo_boundary.crs"
   ]
  },
  {
   "cell_type": "code",
   "execution_count": 8,
   "id": "16857e79-83bf-440a-b397-9ca551af0677",
   "metadata": {},
   "outputs": [
    {
     "data": {
      "text/plain": [
       "<Geographic 2D CRS: EPSG:4326>\n",
       "Name: WGS 84\n",
       "Axis Info [ellipsoidal]:\n",
       "- Lat[north]: Geodetic latitude (degree)\n",
       "- Lon[east]: Geodetic longitude (degree)\n",
       "Area of Use:\n",
       "- name: World.\n",
       "- bounds: (-180.0, -90.0, 180.0, 90.0)\n",
       "Datum: World Geodetic System 1984 ensemble\n",
       "- Ellipsoid: WGS 84\n",
       "- Prime Meridian: Greenwich"
      ]
     },
     "execution_count": 8,
     "metadata": {},
     "output_type": "execute_result"
    }
   ],
   "source": [
    "mammal.crs"
   ]
  },
  {
   "cell_type": "code",
   "execution_count": 9,
   "id": "e4dc17f3-389b-4c87-930e-d5be76db2854",
   "metadata": {},
   "outputs": [
    {
     "data": {
      "text/plain": [
       "<Geographic 2D CRS: EPSG:4326>\n",
       "Name: WGS 84\n",
       "Axis Info [ellipsoidal]:\n",
       "- Lat[north]: Geodetic latitude (degree)\n",
       "- Lon[east]: Geodetic longitude (degree)\n",
       "Area of Use:\n",
       "- name: World.\n",
       "- bounds: (-180.0, -90.0, 180.0, 90.0)\n",
       "Datum: World Geodetic System 1984 ensemble\n",
       "- Ellipsoid: WGS 84\n",
       "- Prime Meridian: Greenwich"
      ]
     },
     "execution_count": 9,
     "metadata": {},
     "output_type": "execute_result"
    }
   ],
   "source": [
    "bird.crs"
   ]
  },
  {
   "cell_type": "markdown",
   "id": "67a3914f-5faa-4d1b-a7a1-762342119ae8",
   "metadata": {},
   "source": [
    "### Clipping Mammals with Borneo Boundary"
   ]
  },
  {
   "cell_type": "code",
   "execution_count": 11,
   "id": "2cfd5c02-7cf0-4091-a838-0eeefc477529",
   "metadata": {},
   "outputs": [
    {
     "name": "stdout",
     "output_type": "stream",
     "text": [
      "      id_no             sci_name  presence  origin  seasonal      compiler  \\\n",
      "2535   9760  Helarctos malayanus         5       1         1  Graham Usher   \n",
      "9831  41772         Sus barbatus         1       1         1          IUCN   \n",
      "\n",
      "      yrcompiled                                           citation  \\\n",
      "2535        2017               Scotson, L. and Fredriksson, G. 2016   \n",
      "9831        2017  IUCN (International Union for Conservation of ...   \n",
      "\n",
      "     subspecies subpop  ... marine terrestria freshwater  SHAPE_Leng  \\\n",
      "2535       None   None  ...  false       true      false  298.047663   \n",
      "9831   barbatus   None  ...  false       true      false  203.352979   \n",
      "\n",
      "      SHAPE_Area           area  \\\n",
      "2535   28.227425  347094.755252   \n",
      "9831   29.450292  362205.059335   \n",
      "\n",
      "                                                habitat altitude max_alt  \\\n",
      "2535          Forest, Shrubland, Artificial/Terrestrial      1.0  3000.0   \n",
      "9831  Forest, Wetlands (inland), Marine Neritic, Mar...      0.0     0.0   \n",
      "\n",
      "                                               geometry  \n",
      "2535  MULTIPOLYGON (((110.19774 -2.33307, 110.17772 ...  \n",
      "9831  MULTIPOLYGON (((112.55407 -3.22212, 112.51027 ...  \n",
      "\n",
      "[2 rows x 33 columns]\n"
     ]
    }
   ],
   "source": [
    "# Cek geometri yang tidak valid\n",
    "invalid = mammal[~mammal.is_valid]\n",
    "print(invalid)"
   ]
  },
  {
   "cell_type": "code",
   "execution_count": 10,
   "id": "ad719351-4855-4458-8882-b992134bb016",
   "metadata": {},
   "outputs": [],
   "source": [
    "# Select animals which presence is not extinct and resident through the year\n",
    "mammals_filtered = mammal[(mammal['presence'] != 5) & (mammal['seasonal'] == 1)].copy()"
   ]
  },
  {
   "cell_type": "code",
   "execution_count": 13,
   "id": "b28c0d17-8622-4c6e-b150-af9978c557eb",
   "metadata": {},
   "outputs": [
    {
     "data": {
      "text/plain": [
       "12450"
      ]
     },
     "execution_count": 13,
     "metadata": {},
     "output_type": "execute_result"
    }
   ],
   "source": [
    "len(mammals_filtered)"
   ]
  },
  {
   "cell_type": "code",
   "execution_count": 11,
   "id": "75b3d724-82c0-40c8-8027-d9825adc0ba6",
   "metadata": {},
   "outputs": [],
   "source": [
    "from shapely.validation import make_valid\n",
    "\n",
    "mammals_filtered[\"geometry\"] = mammals_filtered[\"geometry\"].apply(make_valid)\n",
    "borneo_boundary[\"geometry\"] = borneo_boundary[\"geometry\"].apply(make_valid)"
   ]
  },
  {
   "cell_type": "code",
   "execution_count": null,
   "id": "914c6307-7c3e-4b51-9903-dfa18a082703",
   "metadata": {},
   "outputs": [],
   "source": [
    "mammals_borneo = gpd.clip(mammals_filtered, borneo_boundary)"
   ]
  },
  {
   "cell_type": "code",
   "execution_count": null,
   "id": "5a067377-782f-4c69-a42f-979612c32702",
   "metadata": {},
   "outputs": [],
   "source": [
    "# Plot the clipped layer\n",
    "mammals_borneo.plot(figsize=(10, 10), edgecolor='black', cmap='Set2')\n",
    "plt.title(\"Clipped Mammals Layer\")\n",
    "plt.xlabel(\"Longitude\")\n",
    "plt.ylabel(\"Latitude\")\n",
    "plt.show()"
   ]
  },
  {
   "cell_type": "code",
   "execution_count": null,
   "id": "b9ade93e-b61f-4d95-a061-d2185cdfd0bc",
   "metadata": {},
   "outputs": [],
   "source": [
    "# Select animals where yrcompiled > 2000 and category as CR, VU, EN\n",
    "mammals_threatened = mammals_borneo[\n",
    "    (mammals_borneo['category'].isin(['VU', 'CR', 'EN'])) &\n",
    "    (mammals_borneo['yrcompiled'] > 2000)\n",
    "].copy()"
   ]
  },
  {
   "cell_type": "code",
   "execution_count": null,
   "id": "494e48d8-a9d3-4c5e-bf17-9337383717f5",
   "metadata": {},
   "outputs": [],
   "source": [
    "len(mammals_threatened)"
   ]
  },
  {
   "cell_type": "code",
   "execution_count": null,
   "id": "94ea50a9-85d8-4e91-b7ee-cbd52794c88c",
   "metadata": {},
   "outputs": [],
   "source": [
    "# Reproject to Southeast Asia Albers Equal Area (ESRI:102025) in square metres\n",
    "mammals_borneo_proj = mammals_threatened.to_crs(\"ESRI:102025\")\n",
    "\n",
    "# Calculate area in square meters\n",
    "mammals_borneo_proj['area_m2'] = mammals_borneo_proj.geometry.area\n",
    "mammals_borneo_proj['area_km2'] = mammals_borneo_proj['area_m2'] / 1_000_000\n",
    "# Remove small areas possibly the result of clipping process\n",
    "mammals_borneo_proj = mammals_borneo_proj[mammals_borneo_proj['area_km2'] >= 80]"
   ]
  },
  {
   "cell_type": "code",
   "execution_count": null,
   "id": "f1ca2f61-af04-45fa-9edf-3701b4b6f52b",
   "metadata": {},
   "outputs": [],
   "source": [
    "print(mammals_borneo_proj.columns.to_list())"
   ]
  },
  {
   "cell_type": "code",
   "execution_count": null,
   "id": "ecef1ea0-0b77-4bca-8441-d9f536e627b0",
   "metadata": {},
   "outputs": [],
   "source": [
    "# Sort by SHAPE_Area in descending order\n",
    "mammals_sorted = mammals_borneo_proj.sort_values(by='area_km2', ascending=False)\n",
    "\n",
    "# Display selected columns\n",
    "#print(mammals_sorted[['sci_name', 'category', 'area_km2']])"
   ]
  },
  {
   "cell_type": "code",
   "execution_count": null,
   "id": "3f205d4f-ef58-4da0-914c-16db3e7e4421",
   "metadata": {},
   "outputs": [],
   "source": [
    "# Merged duplicate species name\n",
    "# Sort to keep largest area per species\n",
    "sorted_gdf = mammals_borneo_proj.sort_values('area_km2', ascending=False)\n",
    "\n",
    "# Group and pick first (largest area)\n",
    "mammals_merged = (\n",
    "    sorted_gdf\n",
    "    .groupby('sci_name', as_index=False)\n",
    "    .agg({\n",
    "        'category': lambda x: ', '.join(sorted(set(x))),\n",
    "        'yrcompiled': lambda x: ', '.join(map(str, sorted(set(x)))),\n",
    "        'area_km2': 'first',\n",
    "        'geometry': 'first'\n",
    "    })\n",
    ")\n",
    "\n",
    "# Convert to GeoDataFrame again\n",
    "import geopandas as gpd\n",
    "mammals_merged = gpd.GeoDataFrame(mammals_merged, geometry='geometry', crs=mammals_borneo_proj.crs)"
   ]
  },
  {
   "cell_type": "code",
   "execution_count": null,
   "id": "a167f91c-0f08-43bb-b6ef-620e903415d8",
   "metadata": {},
   "outputs": [],
   "source": [
    "# Sort by SHAPE_Area in descending order\n",
    "mammals_sort = mammals_merged.sort_values(by='sci_name', ascending=False)\n",
    "\n",
    "# Display selected columns\n",
    "#print(mammals_sort[['sci_name', 'category', 'yrcompiled', 'area_km2']])"
   ]
  },
  {
   "cell_type": "code",
   "execution_count": null,
   "id": "560923b7-ac41-4400-8ee9-616500b4d2d2",
   "metadata": {},
   "outputs": [],
   "source": [
    "len(mammals_merged)"
   ]
  },
  {
   "cell_type": "code",
   "execution_count": null,
   "id": "0f684ba2-f728-46f4-9faf-6089842f0b8b",
   "metadata": {},
   "outputs": [],
   "source": [
    "iucn_data = pd.read_excel('mammals_database.xls')"
   ]
  },
  {
   "cell_type": "code",
   "execution_count": null,
   "id": "518ccdd8-8546-40bf-9fc3-795a0976d3c6",
   "metadata": {},
   "outputs": [],
   "source": [
    "mammal_aoh = mammals_merged.merge(iucn_data, on = 'sci_name', how = 'left')"
   ]
  },
  {
   "cell_type": "code",
   "execution_count": null,
   "id": "61248b99-a9a2-4fc6-ac43-db60c9ae4df6",
   "metadata": {},
   "outputs": [],
   "source": [
    "mammal_aoh= mammal_aoh.dropna(subset=['max_alt'])"
   ]
  },
  {
   "cell_type": "code",
   "execution_count": null,
   "id": "d99254a4-4a1c-48d7-972a-ae3eb2e69288",
   "metadata": {},
   "outputs": [],
   "source": [
    "len(mammal_aoh)"
   ]
  },
  {
   "cell_type": "code",
   "execution_count": null,
   "id": "7ee51519-6b9f-4b38-9c64-56c3e120cd50",
   "metadata": {},
   "outputs": [],
   "source": [
    "#mammals_merged.to_file(\"mammals_merged.gpkg\", driver = \"GPKG\")"
   ]
  },
  {
   "cell_type": "code",
   "execution_count": null,
   "id": "13c756ef-8a83-4bc1-ac93-fcd0f6d9586b",
   "metadata": {},
   "outputs": [],
   "source": [
    "mammal_aoh.to_file(\"mammal_aoh.shp\")"
   ]
  },
  {
   "cell_type": "markdown",
   "id": "e2645fac-f376-4362-bfa2-793cf21c2952",
   "metadata": {},
   "source": [
    "### Clipping Birds with Borneo Boundary"
   ]
  },
  {
   "cell_type": "code",
   "execution_count": 14,
   "id": "6106a708-041c-43f6-8d1d-21e40c6f37b2",
   "metadata": {},
   "outputs": [
    {
     "ename": "NameError",
     "evalue": "name 'invalid1' is not defined",
     "output_type": "error",
     "traceback": [
      "\u001b[1;31m---------------------------------------------------------------------------\u001b[0m",
      "\u001b[1;31mNameError\u001b[0m                                 Traceback (most recent call last)",
      "Cell \u001b[1;32mIn[14], line 3\u001b[0m\n\u001b[0;32m      1\u001b[0m \u001b[38;5;66;03m# Invalid Geometry\u001b[39;00m\n\u001b[0;32m      2\u001b[0m invalid_bird \u001b[38;5;241m=\u001b[39m bird[\u001b[38;5;241m~\u001b[39mbird\u001b[38;5;241m.\u001b[39mis_valid]\n\u001b[1;32m----> 3\u001b[0m \u001b[38;5;28mprint\u001b[39m(\u001b[43minvalid1\u001b[49m)\n",
      "\u001b[1;31mNameError\u001b[0m: name 'invalid1' is not defined"
     ]
    }
   ],
   "source": [
    "# Invalid Geometry\n",
    "invalid_bird = bird[~bird.is_valid]\n",
    "print(invalid1)"
   ]
  },
  {
   "cell_type": "code",
   "execution_count": null,
   "id": "e86302f6-0c29-4aea-ac1c-61ad1f33667c",
   "metadata": {},
   "outputs": [],
   "source": [
    "from shapely.validation import make_valid\n",
    "\n",
    "bird[\"geometry\"] = bird[\"geometry\"].apply(make_valid)"
   ]
  },
  {
   "cell_type": "code",
   "execution_count": null,
   "id": "d7975c12-838d-4b91-bed4-c0abacc324f8",
   "metadata": {},
   "outputs": [],
   "source": [
    "bird_borneo = gpd.clip(bird, borneo_boundary)"
   ]
  },
  {
   "cell_type": "code",
   "execution_count": null,
   "id": "7229fdbe-ea67-4487-af17-5331912a4105",
   "metadata": {},
   "outputs": [],
   "source": [
    "bird_borneo.columns"
   ]
  },
  {
   "cell_type": "code",
   "execution_count": null,
   "id": "24f24f21-2ef4-47a3-a19f-c2627ba9586a",
   "metadata": {},
   "outputs": [],
   "source": [
    "# Plot the clipped layer\n",
    "bird_borneo.plot(figsize=(10, 10), edgecolor='black', cmap='Set2')\n",
    "plt.title(\"Clipped bird Layer\")\n",
    "plt.xlabel(\"Longitude\")\n",
    "plt.ylabel(\"Latitude\")\n",
    "plt.show()"
   ]
  },
  {
   "cell_type": "code",
   "execution_count": null,
   "id": "63a7646f-fe39-4856-a0ac-62c0b74c7be2",
   "metadata": {},
   "outputs": [],
   "source": [
    "# Select animals which presence is not extinct and resident through the year\n",
    "bird_borneo_f = bird_borneo[(bird_borneo['presence'] != 5) & (bird_borneo['seasonal'] == 1) & (bird_borneo['yrcompiled'] > 2000)].copy()"
   ]
  },
  {
   "cell_type": "code",
   "execution_count": null,
   "id": "0fd513ad-21a2-4e58-8c08-e35660faa96f",
   "metadata": {},
   "outputs": [],
   "source": [
    "iucn_data_bird = pd.read_excel('birds_iucn_taxonomy.xls')"
   ]
  },
  {
   "cell_type": "code",
   "execution_count": null,
   "id": "f991b5b2-17f3-404e-a28e-18a5a8300b01",
   "metadata": {},
   "outputs": [],
   "source": [
    "bird_aoh = bird_borneo_f.merge(iucn_data_bird, on = 'sci_name', how = 'left')"
   ]
  },
  {
   "cell_type": "code",
   "execution_count": null,
   "id": "588c15be-9073-44f5-9ec5-67686d0a193e",
   "metadata": {},
   "outputs": [],
   "source": [
    "birds_threatened_aoh = bird_aoh[bird_aoh['iucn_category'].isin(['VU', 'CR', 'EN'])].copy()"
   ]
  },
  {
   "cell_type": "code",
   "execution_count": null,
   "id": "7e7715ca-1b33-4830-9aac-aabc15d0cd1d",
   "metadata": {},
   "outputs": [],
   "source": [
    "len(birds_threatened_aoh)"
   ]
  },
  {
   "cell_type": "code",
   "execution_count": null,
   "id": "fd02e322-d5e5-4713-8dfd-dad5309a37a0",
   "metadata": {},
   "outputs": [],
   "source": [
    "# Reproject to Southeast Asia Albers Equal Area (ESRI:102025) in square metres\n",
    "bird_proj = birds_threatened_aoh.to_crs(\"ESRI:102025\")\n",
    "\n",
    "# Calculate area in square meters\n",
    "bird_proj['area_m2'] = bird_proj.geometry.area\n",
    "bird_proj['area_km2'] = bird_proj['area_m2'] / 1_000_000"
   ]
  },
  {
   "cell_type": "code",
   "execution_count": null,
   "id": "57e44bb6-8219-48c5-b66d-963417200ea7",
   "metadata": {},
   "outputs": [],
   "source": [
    "# Merged duplicate species name\n",
    "# Sort to keep largest area per species\n",
    "bird_gdf = bird_proj.sort_values('area_km2', ascending=False)\n",
    "\n",
    "# Group and pick first (largest area)\n",
    "bird_merged = (\n",
    "    bird_gdf\n",
    "    .groupby('sci_name', as_index=False)\n",
    "    .agg({\n",
    "        'iucn_category': lambda x: ', '.join(sorted(set(x))),\n",
    "        'yrcompiled': lambda x: ', '.join(map(str, sorted(set(x)))),\n",
    "        'area_km2': 'first',\n",
    "        'geometry': 'first'\n",
    "    })\n",
    ")\n",
    "\n",
    "# Convert to GeoDataFrame again\n",
    "import geopandas as gpd\n",
    "bird_merged = gpd.GeoDataFrame(bird_merged, geometry='geometry', crs=bird_proj.crs)"
   ]
  },
  {
   "cell_type": "code",
   "execution_count": null,
   "id": "c3cfee4f-98eb-43cc-a476-1d4e586fe8e5",
   "metadata": {},
   "outputs": [],
   "source": [
    "# Sort by SHAPE_Area in descending order\n",
    "bird_sort = bird_merged.sort_values(by='area_km2', ascending=False)\n",
    "\n",
    "# Display selected columns\n",
    "print(bird_sort[['sci_name', 'iucn_category', 'yrcompiled', 'area_km2']])"
   ]
  },
  {
   "cell_type": "code",
   "execution_count": null,
   "id": "1f3f3251-b45a-4c62-9028-e351c4bf0435",
   "metadata": {},
   "outputs": [],
   "source": [
    "altitude = pd.read_excel('birds_database.xls')"
   ]
  },
  {
   "cell_type": "code",
   "execution_count": null,
   "id": "4ca2f7b0-debb-44d9-a279-9be9f00f5a7f",
   "metadata": {},
   "outputs": [],
   "source": [
    "aoh_bird = bird_merged.merge(altitude, on = 'sci_name', how = 'left')"
   ]
  },
  {
   "cell_type": "code",
   "execution_count": null,
   "id": "4a747497-34d5-4a01-9d78-e7cffc5d27a7",
   "metadata": {},
   "outputs": [],
   "source": [
    "print(aoh_bird)"
   ]
  },
  {
   "cell_type": "code",
   "execution_count": null,
   "id": "b11e14a5-7631-4c97-be51-c74f13f3f340",
   "metadata": {},
   "outputs": [],
   "source": [
    "aoh_bird= aoh_bird.dropna(subset=['max_alt'])\n",
    "len(aoh_bird)"
   ]
  },
  {
   "cell_type": "code",
   "execution_count": null,
   "id": "576743f3-b245-43b0-a1bf-54a1abd43b0e",
   "metadata": {},
   "outputs": [],
   "source": [
    "#aoh_bird.to_file(\"aoh_bird.shp\")"
   ]
  },
  {
   "cell_type": "code",
   "execution_count": 23,
   "id": "70c93fbc-6bdc-4c85-b923-2e204952c3d1",
   "metadata": {},
   "outputs": [],
   "source": [
    "#Merging Mammal and Birds\n",
    "\n",
    "# Identify common columns (excluding geometry)\n",
    "common_cols = list(set(aoh_bird.columns).intersection(set(mammal_aoh.columns)))\n",
    "common_cols = [col for col in common_cols if col != 'geometry']\n",
    "\n",
    "# Align both GeoDataFrames\n",
    "bird_aligned = aoh_bird[common_cols + ['geometry']]\n",
    "mammal_aligned = mammal_aoh[common_cols + ['geometry']]\n",
    "\n",
    "# Merge them\n",
    "merged = pd.concat([bird_aligned, mammal_aligned], ignore_index=True)\n",
    "merged_gdf = gpd.GeoDataFrame(merged, crs=aoh_bird.crs)\n",
    "\n",
    "# Save the merged shapefile\n",
    "merged_gdf.to_file(\"merged_aoh.shp\")"
   ]
  },
  {
   "cell_type": "code",
   "execution_count": 5,
   "id": "6d54ef28-e3b5-4c73-8d16-25d4e782d913",
   "metadata": {},
   "outputs": [],
   "source": [
    "import geopandas as gpd\n",
    "m = gpd.read_file(\"merged_aoh.shp\")"
   ]
  },
  {
   "cell_type": "code",
   "execution_count": 9,
   "id": "6dd270e2-4d9a-4465-a639-ccc8590a34e6",
   "metadata": {},
   "outputs": [],
   "source": [
    "m_proj = m.to_crs(\"EPSG:3857\")"
   ]
  },
  {
   "cell_type": "code",
   "execution_count": 11,
   "id": "cf5d8c95-78bd-4392-913c-e1bd166ed5d7",
   "metadata": {},
   "outputs": [],
   "source": [
    "m_proj[\"area_m2\"] = m_proj.geometry.area"
   ]
  },
  {
   "cell_type": "code",
   "execution_count": 13,
   "id": "fc531929-828f-4846-ba25-832c5c35e274",
   "metadata": {},
   "outputs": [],
   "source": [
    "m_proj = m_proj.assign(area_m2=m_proj.geometry.area)\n",
    "m_proj_sorted = m_proj.sort_values(\"area_m2\", ascending=True)"
   ]
  },
  {
   "cell_type": "code",
   "execution_count": 15,
   "id": "8eb0fb62-8284-438d-85d8-b4130b5886df",
   "metadata": {},
   "outputs": [
    {
     "data": {
      "text/html": [
       "<div>\n",
       "<style scoped>\n",
       "    .dataframe tbody tr th:only-of-type {\n",
       "        vertical-align: middle;\n",
       "    }\n",
       "\n",
       "    .dataframe tbody tr th {\n",
       "        vertical-align: top;\n",
       "    }\n",
       "\n",
       "    .dataframe thead th {\n",
       "        text-align: right;\n",
       "    }\n",
       "</style>\n",
       "<table border=\"1\" class=\"dataframe\">\n",
       "  <thead>\n",
       "    <tr style=\"text-align: right;\">\n",
       "      <th></th>\n",
       "      <th>area_m2</th>\n",
       "      <th>geometry</th>\n",
       "    </tr>\n",
       "  </thead>\n",
       "  <tbody>\n",
       "    <tr>\n",
       "      <th>28</th>\n",
       "      <td>1.884933e+08</td>\n",
       "      <td>POLYGON ((12269470.387 114461.137, 12269376.12...</td>\n",
       "    </tr>\n",
       "    <tr>\n",
       "      <th>18</th>\n",
       "      <td>6.305049e+08</td>\n",
       "      <td>MULTIPOLYGON (((12829022.063 -278063.881, 1282...</td>\n",
       "    </tr>\n",
       "    <tr>\n",
       "      <th>47</th>\n",
       "      <td>6.930491e+08</td>\n",
       "      <td>POLYGON ((12445386.6 -391342.969, 12446326.137...</td>\n",
       "    </tr>\n",
       "    <tr>\n",
       "      <th>35</th>\n",
       "      <td>9.390332e+08</td>\n",
       "      <td>MULTIPOLYGON (((13052638.057 486384.454, 13052...</td>\n",
       "    </tr>\n",
       "    <tr>\n",
       "      <th>36</th>\n",
       "      <td>1.101179e+09</td>\n",
       "      <td>POLYGON ((12925098.459 -440680.002, 12925310.3...</td>\n",
       "    </tr>\n",
       "    <tr>\n",
       "      <th>...</th>\n",
       "      <td>...</td>\n",
       "      <td>...</td>\n",
       "    </tr>\n",
       "    <tr>\n",
       "      <th>53</th>\n",
       "      <td>5.327136e+11</td>\n",
       "      <td>MULTIPOLYGON (((13093263.774 463877.218, 13093...</td>\n",
       "    </tr>\n",
       "    <tr>\n",
       "      <th>6</th>\n",
       "      <td>5.362795e+11</td>\n",
       "      <td>MULTIPOLYGON (((13093275.664 463888.608, 13093...</td>\n",
       "    </tr>\n",
       "    <tr>\n",
       "      <th>2</th>\n",
       "      <td>5.362798e+11</td>\n",
       "      <td>MULTIPOLYGON (((13093275.664 463888.608, 13093...</td>\n",
       "    </tr>\n",
       "    <tr>\n",
       "      <th>22</th>\n",
       "      <td>5.362798e+11</td>\n",
       "      <td>MULTIPOLYGON (((13093275.664 463888.608, 13093...</td>\n",
       "    </tr>\n",
       "    <tr>\n",
       "      <th>62</th>\n",
       "      <td>5.366178e+11</td>\n",
       "      <td>MULTIPOLYGON (((13084240.253 -46739.02, 130845...</td>\n",
       "    </tr>\n",
       "  </tbody>\n",
       "</table>\n",
       "<p>67 rows × 2 columns</p>\n",
       "</div>"
      ],
      "text/plain": [
       "         area_m2                                           geometry\n",
       "28  1.884933e+08  POLYGON ((12269470.387 114461.137, 12269376.12...\n",
       "18  6.305049e+08  MULTIPOLYGON (((12829022.063 -278063.881, 1282...\n",
       "47  6.930491e+08  POLYGON ((12445386.6 -391342.969, 12446326.137...\n",
       "35  9.390332e+08  MULTIPOLYGON (((13052638.057 486384.454, 13052...\n",
       "36  1.101179e+09  POLYGON ((12925098.459 -440680.002, 12925310.3...\n",
       "..           ...                                                ...\n",
       "53  5.327136e+11  MULTIPOLYGON (((13093263.774 463877.218, 13093...\n",
       "6   5.362795e+11  MULTIPOLYGON (((13093275.664 463888.608, 13093...\n",
       "2   5.362798e+11  MULTIPOLYGON (((13093275.664 463888.608, 13093...\n",
       "22  5.362798e+11  MULTIPOLYGON (((13093275.664 463888.608, 13093...\n",
       "62  5.366178e+11  MULTIPOLYGON (((13084240.253 -46739.02, 130845...\n",
       "\n",
       "[67 rows x 2 columns]"
      ]
     },
     "execution_count": 15,
     "metadata": {},
     "output_type": "execute_result"
    }
   ],
   "source": [
    "m_proj_sorted[[\"area_m2\", \"geometry\"]]"
   ]
  },
  {
   "cell_type": "markdown",
   "id": "8f4405bc-32f5-450e-95b8-acba43b410f5",
   "metadata": {
    "jp-MarkdownHeadingCollapsed": true
   },
   "source": [
    "## Working with Planted Forest Dataset"
   ]
  },
  {
   "cell_type": "markdown",
   "id": "8e7ffb88-55ab-499e-bf48-3b48132dcd3b",
   "metadata": {},
   "source": [
    "What I do here:\n",
    "1) Note: There are several invalid geomtries for this SDPT dataset. I try to use shapely and initially wanted to do clipping in python, but the operation takes too long, so I used GIS desktop software to clip the data into Borneo Boundary\n",
    "2) Perform filtering trees that are planted before and equal to year 2017 as a planted trees for 2017 and use the SDPT V21 official dataset in 2020 as planted trees for 2020.\n",
    "3) I rasterize them here with output of 30 x 30 pixels, matching Hansen Forest Loss Dataset and compressed them before uploaded into GEE asset"
   ]
  },
  {
   "cell_type": "code",
   "execution_count": 4,
   "id": "02e48088-f50c-443b-8cc4-98a33a090afe",
   "metadata": {},
   "outputs": [
    {
     "data": {
      "text/plain": [
       "'C:\\\\Users\\\\nooriza maharani\\\\Documents\\\\Dissertation'"
      ]
     },
     "execution_count": 4,
     "metadata": {},
     "output_type": "execute_result"
    }
   ],
   "source": [
    "os.getcwd()"
   ]
  },
  {
   "cell_type": "code",
   "execution_count": 5,
   "id": "661dc3c3-6c14-4dd0-bef4-ae7719c5a299",
   "metadata": {},
   "outputs": [],
   "source": [
    "#sdpt = gpd.read_file(\"sdpt_idn_plant_v21.shp\")"
   ]
  },
  {
   "cell_type": "code",
   "execution_count": 14,
   "id": "979d5070-55af-4023-9cbc-54922e4683b3",
   "metadata": {},
   "outputs": [
    {
     "name": "stdout",
     "output_type": "stream",
     "text": [
      "        OBJECTID final_id iso3 iso2    country  \\\n",
      "88          89.0   IDN_38  IDN   ID  Indonesia   \n",
      "89          90.0   IDN_38  IDN   ID  Indonesia   \n",
      "102        103.0   IDN_38  IDN   ID  Indonesia   \n",
      "105        106.0   IDN_38  IDN   ID  Indonesia   \n",
      "107        108.0   IDN_38  IDN   ID  Indonesia   \n",
      "...          ...      ...  ...  ...        ...   \n",
      "953347  953348.0  IDN_203  IDN   ID  Indonesia   \n",
      "953355  953356.0  IDN_203  IDN   ID  Indonesia   \n",
      "953359  953360.0  IDN_203  IDN   ID  Indonesia   \n",
      "953361  953362.0  IDN_203  IDN   ID  Indonesia   \n",
      "953365  953366.0  IDN_203  IDN   ID  Indonesia   \n",
      "\n",
      "                                               originalNa  originalCo  \\\n",
      "88      Large industrial plantation, Oil palm, transpa...          38   \n",
      "89      Large industrial plantation, Oil palm, transpa...          38   \n",
      "102     Large industrial plantation, Oil palm, transpa...          38   \n",
      "105     Large industrial plantation, Oil palm, transpa...          38   \n",
      "107     Large industrial plantation, Oil palm, transpa...          38   \n",
      "...                                                   ...         ...   \n",
      "953347                                             Rubber           3   \n",
      "953355                                             Rubber           3   \n",
      "953359                                             Rubber           3   \n",
      "953361                                             Rubber           3   \n",
      "953365                                             Rubber           3   \n",
      "\n",
      "        finalCode vernacName             sciName  ... removalF_2 removalF_3  \\\n",
      "88             38   Oil palm   Elaeis guineensis  ...        2.4      0.984   \n",
      "89             38   Oil palm   Elaeis guineensis  ...        2.4      0.984   \n",
      "102            38   Oil palm   Elaeis guineensis  ...        2.4      0.984   \n",
      "105            38   Oil palm   Elaeis guineensis  ...        2.4      0.984   \n",
      "107            38   Oil palm   Elaeis guineensis  ...        2.4      0.984   \n",
      "...           ...        ...                 ...  ...        ...        ...   \n",
      "953347        203     Rubber  Hevea brasiliensis  ...        3.0      0.390   \n",
      "953355        203     Rubber  Hevea brasiliensis  ...        3.0      0.390   \n",
      "953359        203     Rubber  Hevea brasiliensis  ...        3.0      0.390   \n",
      "953361        203     Rubber  Hevea brasiliensis  ...        3.0      0.390   \n",
      "953365        203     Rubber  Hevea brasiliensis  ...        3.0      0.390   \n",
      "\n",
      "                                     removalF_4  \\\n",
      "88      IPCC 2019 Refinement Cropland Table 5.3   \n",
      "89      IPCC 2019 Refinement Cropland Table 5.3   \n",
      "102     IPCC 2019 Refinement Cropland Table 5.3   \n",
      "105     IPCC 2019 Refinement Cropland Table 5.3   \n",
      "107     IPCC 2019 Refinement Cropland Table 5.3   \n",
      "...                                         ...   \n",
      "953347  IPCC 2019 Refinement Cropland Table 5.3   \n",
      "953355  IPCC 2019 Refinement Cropland Table 5.3   \n",
      "953359  IPCC 2019 Refinement Cropland Table 5.3   \n",
      "953361  IPCC 2019 Refinement Cropland Table 5.3   \n",
      "953365  IPCC 2019 Refinement Cropland Table 5.3   \n",
      "\n",
      "                                               removalF_5  \\\n",
      "88      Standard deviation calculated from uncertainty...   \n",
      "89      Standard deviation calculated from uncertainty...   \n",
      "102     Standard deviation calculated from uncertainty...   \n",
      "105     Standard deviation calculated from uncertainty...   \n",
      "107     Standard deviation calculated from uncertainty...   \n",
      "...                                                   ...   \n",
      "953347  Standard deviation calculated from uncertainty...   \n",
      "953355  Standard deviation calculated from uncertainty...   \n",
      "953359  Standard deviation calculated from uncertainty...   \n",
      "953361  Standard deviation calculated from uncertainty...   \n",
      "953365  Standard deviation calculated from uncertainty...   \n",
      "\n",
      "                                               removalF_6 removalF_7  \\\n",
      "88      Oil palm default rate: AGB 2.4 +/- 41% t C/ha/...   Tropical   \n",
      "89      Oil palm default rate: AGB 2.4 +/- 41% t C/ha/...   Tropical   \n",
      "102     Oil palm default rate: AGB 2.4 +/- 41% t C/ha/...   Tropical   \n",
      "105     Oil palm default rate: AGB 2.4 +/- 41% t C/ha/...   Tropical   \n",
      "107     Oil palm default rate: AGB 2.4 +/- 41% t C/ha/...   Tropical   \n",
      "...                                                   ...        ...   \n",
      "953347  Tropical rubber default rate: AGB 3.0 +/- 0 13...   Tropical   \n",
      "953355  Tropical rubber default rate: AGB 3.0 +/- 0 13...   Tropical   \n",
      "953359  Tropical rubber default rate: AGB 3.0 +/- 0 13...   Tropical   \n",
      "953361  Tropical rubber default rate: AGB 3.0 +/- 0 13...   Tropical   \n",
      "953365  Tropical rubber default rate: AGB 3.0 +/- 0 13...   Tropical   \n",
      "\n",
      "       plantedYea Shape_Leng Shape_Area  \\\n",
      "88         1992.0   0.554211   0.001901   \n",
      "89         2014.0   0.074046   0.000075   \n",
      "102        2013.0   0.029466   0.000019   \n",
      "105        2018.0   0.099692   0.000078   \n",
      "107        2014.0   0.057978   0.000053   \n",
      "...           ...        ...        ...   \n",
      "953347     1998.0   8.780332   0.000764   \n",
      "953355     2005.0  10.701438   0.000963   \n",
      "953359     2005.0   8.949179   0.000768   \n",
      "953361     2000.0  11.667883   0.000968   \n",
      "953365     1998.0   3.101016   0.000275   \n",
      "\n",
      "                                                 geometry  \n",
      "88      POLYGON ((113.96102 -3.29797, 113.96102 -3.297...  \n",
      "89      POLYGON ((113.68978 -3.18617, 113.68977 -3.187...  \n",
      "102     POLYGON ((113.75512 -3.06555, 113.75674 -3.065...  \n",
      "105     POLYGON ((114.24319 -3.02885, 114.24319 -3.029...  \n",
      "107     POLYGON ((113.86892 -3.0001, 113.86946 -3.0001...  \n",
      "...                                                   ...  \n",
      "953347  MULTIPOLYGON (((117.16331 -0.69745, 117.16304 ...  \n",
      "953355  MULTIPOLYGON (((119.5513 -1.80157, 119.55103 -...  \n",
      "953359  MULTIPOLYGON (((119.69602 -1.44961, 119.69548 ...  \n",
      "953361  MULTIPOLYGON (((120.35925 -1.18077, 120.35898 ...  \n",
      "953365  MULTIPOLYGON (((120.21588 0.66215, 120.21561 0...  \n",
      "\n",
      "[14415 rows x 45 columns]\n"
     ]
    }
   ],
   "source": [
    "# Invalid Geometry\n",
    "invalid_sdpt = sdpt[~sdpt.is_valid]\n",
    "print(invalid_sdpt)"
   ]
  },
  {
   "cell_type": "code",
   "execution_count": 7,
   "id": "037a6ee7-9d87-43fc-accc-91b86c8f2191",
   "metadata": {},
   "outputs": [
    {
     "name": "stderr",
     "output_type": "stream",
     "text": [
      "\n",
      "KeyboardInterrupt\n",
      "\n"
     ]
    }
   ],
   "source": [
    "# RUn this but takes too long, so I prefer using QGIS to clip the planted forest\n",
    "#from shapely.validation import make_valid\n",
    "#sdpt[\"geometry\"] = sdpt[\"geometry\"].apply(make_valid)"
   ]
  },
  {
   "cell_type": "code",
   "execution_count": 9,
   "id": "4424ee81-be0d-4669-aa83-616c31681b46",
   "metadata": {},
   "outputs": [],
   "source": [
    "borneo_sdpt = gpd.read_file('planted_crops.shp')"
   ]
  },
  {
   "cell_type": "code",
   "execution_count": 11,
   "id": "ce8adaa0-9f21-45c9-9427-d7fabcf7c52a",
   "metadata": {},
   "outputs": [
    {
     "data": {
      "text/plain": [
       "<Geographic 2D CRS: EPSG:4326>\n",
       "Name: WGS 84\n",
       "Axis Info [ellipsoidal]:\n",
       "- Lat[north]: Geodetic latitude (degree)\n",
       "- Lon[east]: Geodetic longitude (degree)\n",
       "Area of Use:\n",
       "- name: World.\n",
       "- bounds: (-180.0, -90.0, 180.0, 90.0)\n",
       "Datum: World Geodetic System 1984 ensemble\n",
       "- Ellipsoid: WGS 84\n",
       "- Prime Meridian: Greenwich"
      ]
     },
     "execution_count": 11,
     "metadata": {},
     "output_type": "execute_result"
    }
   ],
   "source": [
    "borneo_sdpt.crs"
   ]
  },
  {
   "cell_type": "code",
   "execution_count": 16,
   "id": "2ebe8926-9c06-452d-9318-4fa8240f7339",
   "metadata": {},
   "outputs": [],
   "source": [
    "# Reproject to Southeast Asia Albers Equal Area (ESRI:102025) in square metres\n",
    "borneo_sdpt_proj = borneo_sdpt.to_crs(\"ESRI:102025\")"
   ]
  },
  {
   "cell_type": "code",
   "execution_count": 18,
   "id": "7145bfa0-8057-41b4-b21e-97f158864f72",
   "metadata": {},
   "outputs": [
    {
     "data": {
      "text/plain": [
       "Index(['FID', 'OBJECTID', 'final_id', 'iso3', 'iso2', 'country', 'originalNa',\n",
       "       'originalCo', 'finalCode', 'vernacName', 'sciName', 'simpleName',\n",
       "       'sciName1', 'sciName2', 'sciName3', 'sciName4', 'sciName5', 'sciName6',\n",
       "       'sciName7', 'sciName8', 'sciName9', 'sciName10', 'sciName11',\n",
       "       'sciName12', 'sciName13', 'simpleType', 'leafStatus', 'leafType',\n",
       "       'woodType', 'sizeCatego', 'ownership', 'reference', 'imageryYea',\n",
       "       'method', 'removalFac', 'removalF_1', 'removalF_2', 'removalF_3',\n",
       "       'removalF_4', 'removalF_5', 'removalF_6', 'removalF_7', 'plantedYea',\n",
       "       'Shape_Leng', 'Shape_Area', 'geometry'],\n",
       "      dtype='object')"
      ]
     },
     "execution_count": 18,
     "metadata": {},
     "output_type": "execute_result"
    }
   ],
   "source": [
    "borneo_sdpt_proj.columns"
   ]
  },
  {
   "cell_type": "code",
   "execution_count": 20,
   "id": "e0f4c475-d1fa-4799-910a-2d23902acb66",
   "metadata": {},
   "outputs": [
    {
     "data": {
      "text/plain": [
       "706313"
      ]
     },
     "execution_count": 20,
     "metadata": {},
     "output_type": "execute_result"
    }
   ],
   "source": [
    "len(borneo_sdpt_proj)"
   ]
  },
  {
   "cell_type": "code",
   "execution_count": 24,
   "id": "5c9f5b2c-1083-4b28-a311-0285bd3e96c5",
   "metadata": {},
   "outputs": [],
   "source": [
    "sdpt_2017 = borneo_sdpt_proj[borneo_sdpt_proj['plantedYea'] <= 2017]"
   ]
  },
  {
   "cell_type": "code",
   "execution_count": 26,
   "id": "cc2513e2-cc0b-4daf-9187-f9865e6c1a90",
   "metadata": {},
   "outputs": [
    {
     "data": {
      "text/plain": [
       "646733"
      ]
     },
     "execution_count": 26,
     "metadata": {},
     "output_type": "execute_result"
    }
   ],
   "source": [
    "len(sdpt_2017)"
   ]
  },
  {
   "cell_type": "code",
   "execution_count": 28,
   "id": "4f92134f-5aee-4620-97bf-de7f613f02d4",
   "metadata": {},
   "outputs": [],
   "source": [
    "#sdpt_2017.to_file('sdpt_2017.shp')\n",
    "#borneo_sdpt_proj.to_file('sdpt_2020.shp')"
   ]
  },
  {
   "cell_type": "code",
   "execution_count": 32,
   "id": "7136fd9b-6b65-41f9-8139-ec28882b14cd",
   "metadata": {},
   "outputs": [
    {
     "name": "stdout",
     "output_type": "stream",
     "text": [
      "Requirement already satisfied: geopandas in c:\\anaconda\\lib\\site-packages (1.0.1)\n",
      "Requirement already satisfied: rasterio in c:\\anaconda\\lib\\site-packages (1.4.3)\n",
      "Note: you may need to restart the kernel to use updated packages.\n"
     ]
    },
    {
     "name": "stderr",
     "output_type": "stream",
     "text": [
      "ERROR: Could not find a version that satisfies the requirement rasterio.features (from versions: none)\n",
      "ERROR: No matching distribution found for rasterio.features\n"
     ]
    }
   ],
   "source": [
    "pip install geopandas rasterio rasterio.features"
   ]
  },
  {
   "cell_type": "code",
   "execution_count": 34,
   "id": "2b86f48b-28ff-4104-aab8-829f72378594",
   "metadata": {},
   "outputs": [],
   "source": [
    "# Changing vector file into raster in 30x30\n",
    "import rasterio\n",
    "from rasterio.features import rasterize\n",
    "from rasterio.transform import from_bounds\n",
    "import numpy as np\n",
    "\n",
    "# Define raster resolution and bounds\n",
    "resolution = 30  # in the units of  CRS (meters)\n",
    "bounds = sdpt_2017.total_bounds  # [minx, miny, maxx, maxy]\n",
    "\n",
    "width = int((bounds[2] - bounds[0]) / resolution)\n",
    "height = int((bounds[3] - bounds[1]) / resolution)\n",
    "\n",
    "transform = from_bounds(*bounds, width=width, height=height)\n",
    "\n",
    "# Create (geometry, value) pairs — all values set to 1 (plantation)\n",
    "shapes = [(geom, 1) for geom in sdpt_2017.geometry]\n",
    "\n",
    "# Rasterize\n",
    "raster = rasterize(\n",
    "    shapes,\n",
    "    out_shape=(height, width),\n",
    "    transform=transform,\n",
    "    fill=0,  # 0 = no plantation\n",
    "    dtype='uint8'\n",
    ")\n",
    "\n",
    "# Save as GeoTIFF\n",
    "with rasterio.open(\n",
    "    'plantation_2017.tif',\n",
    "    'w',\n",
    "    driver='GTiff',\n",
    "    height=height,\n",
    "    width=width,\n",
    "    count=1,\n",
    "    dtype='uint8',\n",
    "    crs=sdpt_2017.crs,\n",
    "    transform=transform,\n",
    ") as dst:\n",
    "    dst.write(raster, 1)\n"
   ]
  },
  {
   "cell_type": "code",
   "execution_count": 38,
   "id": "874228bc-38c2-4f73-b296-2c6c51a0e631",
   "metadata": {},
   "outputs": [],
   "source": [
    "# Changing vector file into raster in 30x30\n",
    "import rasterio\n",
    "from rasterio.features import rasterize\n",
    "from rasterio.transform import from_bounds\n",
    "import numpy as np\n",
    "\n",
    "# Define raster resolution and bounds\n",
    "resolution = 30  # in the units of your CRS (e.g., meters)\n",
    "bounds = borneo_sdpt_proj.total_bounds  # [minx, miny, maxx, maxy]\n",
    "\n",
    "width = int((bounds[2] - bounds[0]) / resolution)\n",
    "height = int((bounds[3] - bounds[1]) / resolution)\n",
    "\n",
    "transform = from_bounds(*bounds, width=width, height=height)\n",
    "\n",
    "# Create (geometry, value) pairs — all values set to 1 (plantation)\n",
    "shapes = [(geom, 1) for geom in borneo_sdpt_proj.geometry]\n",
    "\n",
    "# Rasterize\n",
    "raster = rasterize(\n",
    "    shapes,\n",
    "    out_shape=(height, width),\n",
    "    transform=transform,\n",
    "    fill=0,  # 0 = no plantation\n",
    "    dtype='uint8'\n",
    ")\n",
    "\n",
    "# Save as GeoTIFF\n",
    "with rasterio.open(\n",
    "    'plantation_2020.tif',\n",
    "    'w',\n",
    "    driver='GTiff',\n",
    "    height=height,\n",
    "    width=width,\n",
    "    count=1,\n",
    "    dtype='uint8',\n",
    "    crs=sdpt_2017.crs,\n",
    "    transform=transform,\n",
    ") as dst:\n",
    "    dst.write(raster, 1)\n"
   ]
  },
  {
   "cell_type": "code",
   "execution_count": 42,
   "id": "8f27f83d-1122-4684-9df8-b7f3b42f61dc",
   "metadata": {},
   "outputs": [
    {
     "name": "stdout",
     "output_type": "stream",
     "text": [
      "Input file size is 40582, 29940\n",
      "0...10...20...30...40...50...60...70...80...90...100 - done in 00:00:11.\n"
     ]
    }
   ],
   "source": [
    "# Compress the geotiff output\n",
    "!gdal_translate -co COMPRESS=LZW -co TILED=YES plantation_2017.tif output_compressed.tif"
   ]
  },
  {
   "cell_type": "code",
   "execution_count": 44,
   "id": "fd41edd1-45f5-4dd6-ac21-e261a7a2d58e",
   "metadata": {},
   "outputs": [
    {
     "name": "stdout",
     "output_type": "stream",
     "text": [
      "Same shape? True\n",
      "All values equal? True\n"
     ]
    }
   ],
   "source": [
    "# Check whether the original raster similar in shape and value with compressed raster\n",
    "with rasterio.open(\"plantation_2017.tif\") as src1, rasterio.open(\"output_compressed.tif\") as src2:\n",
    "    data1 = src1.read(1)\n",
    "    data2 = src2.read(1)\n",
    "\n",
    "    print(\"Same shape?\", data1.shape == data2.shape)\n",
    "    print(\"All values equal?\", np.array_equal(data1, data2))\n"
   ]
  },
  {
   "cell_type": "code",
   "execution_count": 49,
   "id": "48d419d0-c0fa-4fbc-853d-c23b96637a49",
   "metadata": {},
   "outputs": [
    {
     "name": "stdout",
     "output_type": "stream",
     "text": [
      "Input file size is 40582, 29940\n",
      "0...10...20...30...40...50...60...70...80...90...100 - done in 00:00:12.\n"
     ]
    }
   ],
   "source": [
    "# Compress the geotiff output\n",
    "!gdal_translate -co COMPRESS=LZW -co TILED=YES plantation_2020.tif output_compressed_2020.tif"
   ]
  },
  {
   "cell_type": "code",
   "execution_count": 59,
   "id": "94ecc8c8-1a20-46cd-9642-9ee666034ccf",
   "metadata": {},
   "outputs": [
    {
     "name": "stdout",
     "output_type": "stream",
     "text": [
      "Same shape? True\n",
      "All values equal? True\n"
     ]
    }
   ],
   "source": [
    "# Check whether the original raster similar in shape and value with compressed raster\n",
    "with rasterio.open(\"plantation_2020.tif\") as src1, rasterio.open(\"output_compressed_2020.tif\") as src2:\n",
    "    data1 = src1.read(1)\n",
    "    data2 = src2.read(1)\n",
    "\n",
    "    print(\"Same shape?\", data1.shape == data2.shape)\n",
    "    print(\"All values equal?\", np.array_equal(data1, data2))\n"
   ]
  },
  {
   "cell_type": "markdown",
   "id": "3d0020b6-fca7-4618-81ca-f5a0636b52d3",
   "metadata": {},
   "source": [
    "# Script for Visualizing the Result"
   ]
  },
  {
   "cell_type": "code",
   "execution_count": 15,
   "id": "8b7645cc-9ce2-4b61-bea6-1d3324dee21d",
   "metadata": {},
   "outputs": [
    {
     "data": {
      "text/plain": [
       "'C:\\\\Users\\\\nooriza maharani\\\\Documents\\\\Dissertation\\\\Forestloss'"
      ]
     },
     "execution_count": 15,
     "metadata": {},
     "output_type": "execute_result"
    }
   ],
   "source": [
    "os.getcwd()"
   ]
  },
  {
   "cell_type": "code",
   "execution_count": 41,
   "id": "266f06b3-5585-4ee3-87cc-530c83923f94",
   "metadata": {},
   "outputs": [
    {
     "data": {
      "text/html": [
       "<div>\n",
       "<style scoped>\n",
       "    .dataframe tbody tr th:only-of-type {\n",
       "        vertical-align: middle;\n",
       "    }\n",
       "\n",
       "    .dataframe tbody tr th {\n",
       "        vertical-align: top;\n",
       "    }\n",
       "\n",
       "    .dataframe thead th {\n",
       "        text-align: right;\n",
       "    }\n",
       "</style>\n",
       "<table border=\"1\" class=\"dataframe\">\n",
       "  <thead>\n",
       "    <tr style=\"text-align: right;\">\n",
       "      <th></th>\n",
       "      <th>system:index</th>\n",
       "      <th>area_ha</th>\n",
       "      <th>end</th>\n",
       "      <th>period</th>\n",
       "      <th>start</th>\n",
       "      <th>threat</th>\n",
       "      <th>.geo</th>\n",
       "    </tr>\n",
       "  </thead>\n",
       "  <tbody>\n",
       "    <tr>\n",
       "      <th>0</th>\n",
       "      <td>1_1_2_0</td>\n",
       "      <td>2.815652e+07</td>\n",
       "      <td>2005.0</td>\n",
       "      <td>2001.0_2005.0</td>\n",
       "      <td>2001.0</td>\n",
       "      <td>CR</td>\n",
       "      <td>{\"type\":\"MultiPoint\",\"coordinates\":[]}</td>\n",
       "    </tr>\n",
       "    <tr>\n",
       "      <th>1</th>\n",
       "      <td>1_1_2_1</td>\n",
       "      <td>2.704437e+07</td>\n",
       "      <td>2010.0</td>\n",
       "      <td>2006.0_2010.0</td>\n",
       "      <td>2006.0</td>\n",
       "      <td>CR</td>\n",
       "      <td>{\"type\":\"MultiPoint\",\"coordinates\":[]}</td>\n",
       "    </tr>\n",
       "    <tr>\n",
       "      <th>2</th>\n",
       "      <td>1_1_2_2</td>\n",
       "      <td>2.565900e+07</td>\n",
       "      <td>2015.0</td>\n",
       "      <td>2011.0_2015.0</td>\n",
       "      <td>2011.0</td>\n",
       "      <td>CR</td>\n",
       "      <td>{\"type\":\"MultiPoint\",\"coordinates\":[]}</td>\n",
       "    </tr>\n",
       "    <tr>\n",
       "      <th>3</th>\n",
       "      <td>1_1_2_3</td>\n",
       "      <td>2.461572e+07</td>\n",
       "      <td>2020.0</td>\n",
       "      <td>2016.0_2020.0</td>\n",
       "      <td>2016.0</td>\n",
       "      <td>CR</td>\n",
       "      <td>{\"type\":\"MultiPoint\",\"coordinates\":[]}</td>\n",
       "    </tr>\n",
       "    <tr>\n",
       "      <th>4</th>\n",
       "      <td>1_1_2_4</td>\n",
       "      <td>2.419172e+07</td>\n",
       "      <td>2024.0</td>\n",
       "      <td>2021.0_2024.0</td>\n",
       "      <td>2021.0</td>\n",
       "      <td>CR</td>\n",
       "      <td>{\"type\":\"MultiPoint\",\"coordinates\":[]}</td>\n",
       "    </tr>\n",
       "    <tr>\n",
       "      <th>5</th>\n",
       "      <td>1_2_0</td>\n",
       "      <td>2.830508e+07</td>\n",
       "      <td>2005.0</td>\n",
       "      <td>2001.0_2005.0</td>\n",
       "      <td>2001.0</td>\n",
       "      <td>EN</td>\n",
       "      <td>{\"type\":\"MultiPoint\",\"coordinates\":[]}</td>\n",
       "    </tr>\n",
       "    <tr>\n",
       "      <th>6</th>\n",
       "      <td>1_2_1</td>\n",
       "      <td>2.718528e+07</td>\n",
       "      <td>2010.0</td>\n",
       "      <td>2006.0_2010.0</td>\n",
       "      <td>2006.0</td>\n",
       "      <td>EN</td>\n",
       "      <td>{\"type\":\"MultiPoint\",\"coordinates\":[]}</td>\n",
       "    </tr>\n",
       "    <tr>\n",
       "      <th>7</th>\n",
       "      <td>1_2_2</td>\n",
       "      <td>2.578396e+07</td>\n",
       "      <td>2015.0</td>\n",
       "      <td>2011.0_2015.0</td>\n",
       "      <td>2011.0</td>\n",
       "      <td>EN</td>\n",
       "      <td>{\"type\":\"MultiPoint\",\"coordinates\":[]}</td>\n",
       "    </tr>\n",
       "    <tr>\n",
       "      <th>8</th>\n",
       "      <td>1_2_3</td>\n",
       "      <td>2.472968e+07</td>\n",
       "      <td>2020.0</td>\n",
       "      <td>2016.0_2020.0</td>\n",
       "      <td>2016.0</td>\n",
       "      <td>EN</td>\n",
       "      <td>{\"type\":\"MultiPoint\",\"coordinates\":[]}</td>\n",
       "    </tr>\n",
       "    <tr>\n",
       "      <th>9</th>\n",
       "      <td>1_2_4</td>\n",
       "      <td>2.430283e+07</td>\n",
       "      <td>2024.0</td>\n",
       "      <td>2021.0_2024.0</td>\n",
       "      <td>2021.0</td>\n",
       "      <td>EN</td>\n",
       "      <td>{\"type\":\"MultiPoint\",\"coordinates\":[]}</td>\n",
       "    </tr>\n",
       "  </tbody>\n",
       "</table>\n",
       "</div>"
      ],
      "text/plain": [
       "  system:index       area_ha     end         period   start threat  \\\n",
       "0      1_1_2_0  2.815652e+07  2005.0  2001.0_2005.0  2001.0     CR   \n",
       "1      1_1_2_1  2.704437e+07  2010.0  2006.0_2010.0  2006.0     CR   \n",
       "2      1_1_2_2  2.565900e+07  2015.0  2011.0_2015.0  2011.0     CR   \n",
       "3      1_1_2_3  2.461572e+07  2020.0  2016.0_2020.0  2016.0     CR   \n",
       "4      1_1_2_4  2.419172e+07  2024.0  2021.0_2024.0  2021.0     CR   \n",
       "5        1_2_0  2.830508e+07  2005.0  2001.0_2005.0  2001.0     EN   \n",
       "6        1_2_1  2.718528e+07  2010.0  2006.0_2010.0  2006.0     EN   \n",
       "7        1_2_2  2.578396e+07  2015.0  2011.0_2015.0  2011.0     EN   \n",
       "8        1_2_3  2.472968e+07  2020.0  2016.0_2020.0  2016.0     EN   \n",
       "9        1_2_4  2.430283e+07  2024.0  2021.0_2024.0  2021.0     EN   \n",
       "\n",
       "                                     .geo  \n",
       "0  {\"type\":\"MultiPoint\",\"coordinates\":[]}  \n",
       "1  {\"type\":\"MultiPoint\",\"coordinates\":[]}  \n",
       "2  {\"type\":\"MultiPoint\",\"coordinates\":[]}  \n",
       "3  {\"type\":\"MultiPoint\",\"coordinates\":[]}  \n",
       "4  {\"type\":\"MultiPoint\",\"coordinates\":[]}  \n",
       "5  {\"type\":\"MultiPoint\",\"coordinates\":[]}  \n",
       "6  {\"type\":\"MultiPoint\",\"coordinates\":[]}  \n",
       "7  {\"type\":\"MultiPoint\",\"coordinates\":[]}  \n",
       "8  {\"type\":\"MultiPoint\",\"coordinates\":[]}  \n",
       "9  {\"type\":\"MultiPoint\",\"coordinates\":[]}  "
      ]
     },
     "execution_count": 41,
     "metadata": {},
     "output_type": "execute_result"
    }
   ],
   "source": [
    "df = pd.read_csv('Remaining_Habitat_Trend_CR_EN_VU_by_period_2001_20241.csv')\n",
    "df.head(10)"
   ]
  },
  {
   "cell_type": "code",
   "execution_count": 47,
   "id": "3e46515c-e71c-4953-88b8-e08d620df163",
   "metadata": {},
   "outputs": [
    {
     "name": "stdout",
     "output_type": "stream",
     "text": [
      "threat\n",
      "CR   -14.08\n",
      "EN   -14.14\n",
      "VU   -14.14\n",
      "Name: remaining_area_percent, dtype: float64\n"
     ]
    }
   ],
   "source": [
    "# First, filter area_ha for the two periods\n",
    "area_end = df.loc[df['period'] == '2021.0_2024.0', ['threat', 'area_ha']].set_index('threat')\n",
    "area_start = df.loc[df['period'] == '2001.0_2005.0', ['threat', 'area_ha']].set_index('threat')\n",
    "\n",
    "# Join on threat to have start and end areas side-by-side\n",
    "combined = area_start.join(area_end, lsuffix='_start', rsuffix='_end').dropna()\n",
    "\n",
    "# Calculate remaining area percentage\n",
    "combined['remaining_area_percent'] = ((combined['area_ha_end'] - combined['area_ha_start']) / combined['area_ha_start']) * 100\n",
    "\n",
    "print(combined['remaining_area_percent'].round(2))"
   ]
  },
  {
   "cell_type": "code",
   "execution_count": 31,
   "id": "a6b5944d-aae5-4b46-b22c-f70e526d6da4",
   "metadata": {},
   "outputs": [
    {
     "name": "stdout",
     "output_type": "stream",
     "text": [
      "[2001.]\n"
     ]
    }
   ],
   "source": [
    "print(df_filtered['start'].unique())"
   ]
  },
  {
   "cell_type": "markdown",
   "id": "627fb740-c10e-463e-99d1-98bc6e67bd99",
   "metadata": {},
   "source": [
    "## Pixel of Bivariate Map"
   ]
  },
  {
   "cell_type": "code",
   "execution_count": 31,
   "id": "1667890b-3c7c-4062-baeb-fdd972bb9fba",
   "metadata": {},
   "outputs": [],
   "source": [
    "pixel = gpd.read_file('High_Bivariate_Pixels_v8.shp')"
   ]
  },
  {
   "cell_type": "code",
   "execution_count": 33,
   "id": "9158ca95-41b0-418f-b870-7bbb0f4a6577",
   "metadata": {},
   "outputs": [
    {
     "data": {
      "text/plain": [
       "<Geographic 2D CRS: EPSG:4326>\n",
       "Name: WGS 84\n",
       "Axis Info [ellipsoidal]:\n",
       "- Lat[north]: Geodetic latitude (degree)\n",
       "- Lon[east]: Geodetic longitude (degree)\n",
       "Area of Use:\n",
       "- name: World.\n",
       "- bounds: (-180.0, -90.0, 180.0, 90.0)\n",
       "Datum: World Geodetic System 1984 ensemble\n",
       "- Ellipsoid: WGS 84\n",
       "- Prime Meridian: Greenwich"
      ]
     },
     "execution_count": 33,
     "metadata": {},
     "output_type": "execute_result"
    }
   ],
   "source": [
    "pixel.crs"
   ]
  },
  {
   "cell_type": "code",
   "execution_count": 35,
   "id": "24c4033e-75bf-4dc8-8751-36133a00f689",
   "metadata": {},
   "outputs": [],
   "source": [
    "# Reproject to Southeast Asia Albers Equal Area (ESRI:102025) in square metres\n",
    "pixel_proj = pixel.to_crs(\"ESRI:102025\")"
   ]
  },
  {
   "cell_type": "code",
   "execution_count": 37,
   "id": "68b6f6df-4df9-4c13-946c-75fed622e02b",
   "metadata": {},
   "outputs": [],
   "source": [
    "merged = pixel_proj.dissolve()"
   ]
  },
  {
   "cell_type": "code",
   "execution_count": 39,
   "id": "c7ab1819-e761-420c-8293-17de7e848162",
   "metadata": {},
   "outputs": [],
   "source": [
    "aoh_bird = gpd.read_file('aoh_bird.shp')\n",
    "mammal_aoh = gpd.read_file('mammal_aoh.shp')"
   ]
  },
  {
   "cell_type": "code",
   "execution_count": 41,
   "id": "ebf3c628-635b-420c-aee6-8049e8188aed",
   "metadata": {},
   "outputs": [],
   "source": [
    "bird_species= gpd.clip(aoh_bird, pixel_proj)\n",
    "mammal_species= gpd.clip(mammal_aoh, pixel_proj)"
   ]
  },
  {
   "cell_type": "code",
   "execution_count": 71,
   "id": "77328e15-e685-4476-8918-199b61c2aa66",
   "metadata": {},
   "outputs": [
    {
     "name": "stdout",
     "output_type": "stream",
     "text": [
      "                      sci_name category  min_alt  max_alt  \\\n",
      "14            Lophura pyronota       EN      0.0    300.0   \n",
      "21  Rhabdotorrhinus corrugatus       EN      0.0     30.0   \n",
      "10         Geokichla interpres       EN     80.0   1000.0   \n",
      "9               Ciconia stormi       EN      0.0    200.0   \n",
      "5         Berenicornis comatus       EN      0.0    600.0   \n",
      "24           Setornis criniger       VU      0.0   1000.0   \n",
      "25             Treron capellei       VU      0.0    600.0   \n",
      "23            Rollulus rouloul       VU      0.0   1200.0   \n",
      "20   Ptilocichla leucogrammica       VU      0.0    600.0   \n",
      "19     Pityriasis gymnocephala       VU      0.0    600.0   \n",
      "11       Harpactes orrhophaeus       VU      0.0    600.0   \n",
      "8         Centropus rectunguis       VU      0.0    600.0   \n",
      "1      Anthracoceros malayanus       VU      0.0    200.0   \n",
      "13              Lophura ignita       VU     10.0   1000.0   \n",
      "3       Batrachostomus auritus       VU      0.0    300.0   \n",
      "15          Melanoperdix niger       VU      0.0   1200.0   \n",
      "7         Carpococcyx radiceus       VU      0.0    500.0   \n",
      "22        Rhyticeros undulatus       VU      0.0   2560.0   \n",
      "17              Nisaetus nanus       VU      0.0    500.0   \n",
      "6           Buceros rhinoceros       VU      0.0   1750.0   \n",
      "4       Belocercus longicaudus       VU      0.0    300.0   \n",
      "2             Argusianus argus       VU      0.0   1500.0   \n",
      "16  Mulleripicus pulverulentus       VU      0.0    600.0   \n",
      "0       Alophoixus tephrogenys       VU      0.0   1150.0   \n",
      "26          Treron fulvicollis       VU      0.0    200.0   \n",
      "12             Lophura bulweri       VU    150.0   1500.0   \n",
      "\n",
      "                                      habitat  \n",
      "14                                     Forest  \n",
      "21                                     Forest  \n",
      "10             Forest, Artificial/Terrestrial  \n",
      "9                   Forest, Wetlands (inland)  \n",
      "5              Forest, Artificial/Terrestrial  \n",
      "24             Forest, Artificial/Terrestrial  \n",
      "25                                     Forest  \n",
      "23                                     Forest  \n",
      "20                                     Forest  \n",
      "19             Forest, Artificial/Terrestrial  \n",
      "11                                     Forest  \n",
      "8                           Forest, Shrubland  \n",
      "1                                      Forest  \n",
      "13             Forest, Artificial/Terrestrial  \n",
      "3                                      Forest  \n",
      "15                                     Forest  \n",
      "7                                      Forest  \n",
      "22                                     Forest  \n",
      "17             Forest, Artificial/Terrestrial  \n",
      "6                                      Forest  \n",
      "4              Forest, Artificial/Terrestrial  \n",
      "2                                      Forest  \n",
      "16                            Forest, Savanna  \n",
      "0              Forest, Artificial/Terrestrial  \n",
      "26  Forest, Shrubland, Artificial/Terrestrial  \n",
      "12                                     Forest  \n"
     ]
    }
   ],
   "source": [
    "sorted_species = bird_species[['sci_name', 'category', 'min_alt','max_alt','habitat']].sort_values(by='category')\n",
    "print(sorted_species)"
   ]
  },
  {
   "cell_type": "code",
   "execution_count": 73,
   "id": "9af36e44-eca7-4327-a3ff-afb1fb569399",
   "metadata": {},
   "outputs": [
    {
     "name": "stdout",
     "output_type": "stream",
     "text": [
      "                     sci_name category  min_alt  max_alt  \\\n",
      "29      Presbytis chrysomelas       CR      0.0    100.0   \n",
      "6    Dicerorhinus sumatrensis       CR      0.0   2500.0   \n",
      "2               Bos javanicus       CR      0.0   2100.0   \n",
      "27             Pongo pygmaeus       CR      0.0    500.0   \n",
      "16             Manis javanica       CR      0.0   1700.0   \n",
      "11       Hylobates albibarbis       EN      0.0   1200.0   \n",
      "12         Hylobates funereus       EN    100.0   1700.0   \n",
      "3              Catopuma badia       EN      0.0    800.0   \n",
      "22           Nasalis larvatus       EN      0.0    350.0   \n",
      "34  Pteromyscus pulverulentus       EN      0.0   3000.0   \n",
      "33           Presbytis sabana       EN     50.0   2000.0   \n",
      "8             Elephas maximus       EN      0.0   3000.0   \n",
      "14        Macaca fascicularis       EN      0.0   2500.0   \n",
      "35          Pteropus vampyrus       EN      0.0   1200.0   \n",
      "5          Cynogale bennettii       EN      0.0   1370.0   \n",
      "15          Macaca nemestrina       EN      0.0   1900.0   \n",
      "25           Nycticebus kayan       VU     50.0   1100.0   \n",
      "24       Nycticebus borneanus       VU     20.0    150.0   \n",
      "36   Rheithrosciurus macrotis       VU      0.0   1100.0   \n",
      "23            Neofelis diardi       VU      0.0   1500.0   \n",
      "32        Presbytis rubicunda       VU      0.0   2000.0   \n",
      "26      Nycticebus menagensis       VU     35.0    700.0   \n",
      "21          Murina rozendaali       VU      0.0   1500.0   \n",
      "0         Arctictis binturong       VU      0.0   3000.0   \n",
      "30         Presbytis frontata       VU      0.0   1000.0   \n",
      "38              Rusa unicolor       VU      0.0   3900.0   \n",
      "39   Trachypithecus cristatus       VU      0.0    300.0   \n",
      "17              Maxomys rajah       VU      0.0   1100.0   \n",
      "4      Cephalopachus bancanus       VU      0.0   1200.0   \n",
      "18         Maxomys whiteheadi       VU      0.0   2100.0   \n",
      "\n",
      "                                              habitat  \n",
      "29                                               None  \n",
      "6                                              forest  \n",
      "2                                                None  \n",
      "27                                               None  \n",
      "16  Forest, Shrubland, Artificial/Terrestrial, Art...  \n",
      "11                     Forest, Artificial/Terrestrial  \n",
      "12                                             Forest  \n",
      "3                                                None  \n",
      "22                                               None  \n",
      "34                                             Forest  \n",
      "33                     Forest, Artificial/Terrestrial  \n",
      "8                                                None  \n",
      "14                                               None  \n",
      "35                                               None  \n",
      "5                                                None  \n",
      "15          Forest, Shrubland, Artificial/Terrestrial  \n",
      "25                                               None  \n",
      "24                     Forest, Artificial/Terrestrial  \n",
      "36                                             Forest  \n",
      "23                                               None  \n",
      "32  Forest, Wetlands (inland), Artificial/Terrestrial  \n",
      "26                                               None  \n",
      "21                                               None  \n",
      "0                      Forest, Artificial/Terrestrial  \n",
      "30                                             Forest  \n",
      "38  Forest, Savanna, Shrubland, Grassland, Wetland...  \n",
      "39                     Forest, Artificial/Terrestrial  \n",
      "17                                             Forest  \n",
      "4                      Forest, Artificial/Terrestrial  \n",
      "18                     Forest, Artificial/Terrestrial  \n"
     ]
    }
   ],
   "source": [
    "sorted_species1 = mammal_species[['sci_name', 'category','min_alt','max_alt', 'habitat']].sort_values(by='category')\n",
    "print(sorted_species1)\n"
   ]
  },
  {
   "cell_type": "code",
   "execution_count": 75,
   "id": "93068e71-a992-4b0c-a158-e870b33cb87e",
   "metadata": {},
   "outputs": [
    {
     "data": {
      "text/plain": [
       "26"
      ]
     },
     "execution_count": 75,
     "metadata": {},
     "output_type": "execute_result"
    }
   ],
   "source": [
    "len(bird_species)"
   ]
  },
  {
   "cell_type": "code",
   "execution_count": 77,
   "id": "c9e89bab-57f0-4c43-8560-a7d4e6cb10ce",
   "metadata": {},
   "outputs": [
    {
     "data": {
      "text/plain": [
       "30"
      ]
     },
     "execution_count": 77,
     "metadata": {},
     "output_type": "execute_result"
    }
   ],
   "source": [
    "len(mammal_species)"
   ]
  },
  {
   "cell_type": "code",
   "execution_count": 87,
   "id": "22fab524-c3ee-4adc-aeb2-29ca3370155a",
   "metadata": {},
   "outputs": [
    {
     "name": "stdout",
     "output_type": "stream",
     "text": [
      "               Scientific Name IUCN Category\n",
      "0             Lophura pyronota            EN\n",
      "1   Rhabdotorrhinus corrugatus            EN\n",
      "2          Geokichla interpres            EN\n",
      "3               Ciconia stormi            EN\n",
      "4         Berenicornis comatus            EN\n",
      "5            Setornis criniger            VU\n",
      "6              Treron capellei            VU\n",
      "7             Rollulus rouloul            VU\n",
      "8    Ptilocichla leucogrammica            VU\n",
      "9      Pityriasis gymnocephala            VU\n",
      "10       Harpactes orrhophaeus            VU\n",
      "11        Centropus rectunguis            VU\n",
      "12     Anthracoceros malayanus            VU\n",
      "13              Lophura ignita            VU\n",
      "14      Batrachostomus auritus            VU\n",
      "15          Melanoperdix niger            VU\n",
      "16        Carpococcyx radiceus            VU\n",
      "17        Rhyticeros undulatus            VU\n",
      "18              Nisaetus nanus            VU\n",
      "19          Buceros rhinoceros            VU\n",
      "20      Belocercus longicaudus            VU\n",
      "21            Argusianus argus            VU\n",
      "22  Mulleripicus pulverulentus            VU\n",
      "23      Alophoixus tephrogenys            VU\n",
      "24          Treron fulvicollis            VU\n",
      "25             Lophura bulweri            VU\n"
     ]
    }
   ],
   "source": [
    "import pandas as pd\n",
    "\n",
    "# Define the order of IUCN categories (adjust if needed)\n",
    "category_order = ['CR', 'EN', 'VU']\n",
    "\n",
    "# Select columns and copy\n",
    "df = bird_species[['sci_name', 'category']].copy()\n",
    "\n",
    "# Rename for clarity\n",
    "df = df.rename(columns={'sci_name': 'Scientific Name', 'category': 'IUCN Category'})\n",
    "\n",
    "# Set category dtype with order\n",
    "df['IUCN Category'] = pd.Categorical(df['IUCN Category'], categories=category_order, ordered=True)\n",
    "\n",
    "# Sort by the IUCN Category\n",
    "df_sorted = df.sort_values(by='IUCN Category').reset_index(drop=True)\n",
    "\n",
    "print(df_sorted)"
   ]
  },
  {
   "cell_type": "code",
   "execution_count": 89,
   "id": "c25fbdef-941f-4aed-bd00-62e9c20c0e10",
   "metadata": {},
   "outputs": [
    {
     "name": "stdout",
     "output_type": "stream",
     "text": [
      "              Scientific Name IUCN Category\n",
      "0       Presbytis chrysomelas            CR\n",
      "1    Dicerorhinus sumatrensis            CR\n",
      "2               Bos javanicus            CR\n",
      "3              Pongo pygmaeus            CR\n",
      "4              Manis javanica            CR\n",
      "5        Hylobates albibarbis            EN\n",
      "6          Hylobates funereus            EN\n",
      "7              Catopuma badia            EN\n",
      "8            Nasalis larvatus            EN\n",
      "9   Pteromyscus pulverulentus            EN\n",
      "10           Presbytis sabana            EN\n",
      "11            Elephas maximus            EN\n",
      "12        Macaca fascicularis            EN\n",
      "13          Pteropus vampyrus            EN\n",
      "14         Cynogale bennettii            EN\n",
      "15          Macaca nemestrina            EN\n",
      "16           Nycticebus kayan            VU\n",
      "17       Nycticebus borneanus            VU\n",
      "18   Rheithrosciurus macrotis            VU\n",
      "19            Neofelis diardi            VU\n",
      "20        Presbytis rubicunda            VU\n",
      "21      Nycticebus menagensis            VU\n",
      "22          Murina rozendaali            VU\n",
      "23        Arctictis binturong            VU\n",
      "24         Presbytis frontata            VU\n",
      "25              Rusa unicolor            VU\n",
      "26   Trachypithecus cristatus            VU\n",
      "27              Maxomys rajah            VU\n",
      "28     Cephalopachus bancanus            VU\n",
      "29         Maxomys whiteheadi            VU\n"
     ]
    }
   ],
   "source": [
    "import pandas as pd\n",
    "\n",
    "# Define the order of IUCN categories (adjust if needed)\n",
    "category_order = ['CR', 'EN', 'VU']\n",
    "\n",
    "# Select columns and copy\n",
    "df = mammal_species[['sci_name', 'category']].copy()\n",
    "\n",
    "# Rename for clarity\n",
    "df = df.rename(columns={'sci_name': 'Scientific Name', 'category': 'IUCN Category'})\n",
    "\n",
    "# Set category dtype with order\n",
    "df['IUCN Category'] = pd.Categorical(df['IUCN Category'], categories=category_order, ordered=True)\n",
    "\n",
    "# Sort by the IUCN Category\n",
    "df_sorted = df.sort_values(by='IUCN Category').reset_index(drop=True)\n",
    "\n",
    "print(df_sorted)\n"
   ]
  },
  {
   "cell_type": "markdown",
   "id": "db8f827f-7152-4689-8ecd-5143ae82e382",
   "metadata": {},
   "source": [
    "## Script to compress BHI components raster"
   ]
  },
  {
   "cell_type": "code",
   "execution_count": 63,
   "id": "98acdcd9-9a62-4709-b3e1-b015ee2cc77c",
   "metadata": {},
   "outputs": [],
   "source": [
    "borneo_boundary = gpd.read_file('gadm41_Borneo.shp')"
   ]
  },
  {
   "cell_type": "code",
   "execution_count": 69,
   "id": "edcd768e-3083-4f62-ab94-ce1606ba878b",
   "metadata": {},
   "outputs": [
    {
     "name": "stdout",
     "output_type": "stream",
     "text": [
      "\n",
      "--- Reading: BILBI_P_BHIv2_Species_2000.tif ---\n",
      "Raster Info:\n",
      " - CRS: GEOGCS[\"WGS 84\",DATUM[\"World Geodetic System 1984\",SPHEROID[\"WGS 84\",6378137,298.257223563]],PRIMEM[\"Greenwich\",0],UNIT[\"degree\",0.0174532925199433,AUTHORITY[\"EPSG\",\"9122\"]],AXIS[\"Latitude\",NORTH],AXIS[\"Longitude\",EAST]]\n",
      " - Width: 43200\n",
      " - Height: 18000\n",
      " - Number of Bands: 1\n",
      " - Data Type: float32\n",
      " - Bounds: BoundingBox(left=-180.0, bottom=-60.0, right=179.99999999999858, top=89.9999999999994)\n",
      " - Min Value: -3.402823e+38\n",
      " - Max Value: 0.99730045\n",
      "\n",
      "--- Reading: BILBI_P_BHIv2_Species_2005.tif ---\n",
      "Raster Info:\n",
      " - CRS: GEOGCS[\"WGS 84\",DATUM[\"World Geodetic System 1984\",SPHEROID[\"WGS 84\",6378137,298.257223563]],PRIMEM[\"Greenwich\",0],UNIT[\"degree\",0.0174532925199433,AUTHORITY[\"EPSG\",\"9122\"]],AXIS[\"Latitude\",NORTH],AXIS[\"Longitude\",EAST]]\n",
      " - Width: 43200\n",
      " - Height: 18000\n",
      " - Number of Bands: 1\n",
      " - Data Type: float32\n",
      " - Bounds: BoundingBox(left=-180.0, bottom=-60.0, right=179.99999999999858, top=89.9999999999994)\n",
      " - Min Value: -3.402823e+38\n",
      " - Max Value: 0.99719435\n",
      "\n",
      "--- Reading: BILBI_P_BHIv2_Species_2010.tif ---\n",
      "Raster Info:\n",
      " - CRS: GEOGCS[\"WGS 84\",DATUM[\"World Geodetic System 1984\",SPHEROID[\"WGS 84\",6378137,298.257223563]],PRIMEM[\"Greenwich\",0],UNIT[\"degree\",0.0174532925199433,AUTHORITY[\"EPSG\",\"9122\"]],AXIS[\"Latitude\",NORTH],AXIS[\"Longitude\",EAST]]\n",
      " - Width: 43200\n",
      " - Height: 18000\n",
      " - Number of Bands: 1\n",
      " - Data Type: float32\n",
      " - Bounds: BoundingBox(left=-180.0, bottom=-60.0, right=179.99999999999858, top=89.9999999999994)\n",
      " - Min Value: -3.402823e+38\n",
      " - Max Value: 0.99714327\n",
      "\n",
      "--- Reading: BILBI_P_BHIv2_Species_2015.tif ---\n",
      "Raster Info:\n",
      " - CRS: GEOGCS[\"WGS 84\",DATUM[\"World Geodetic System 1984\",SPHEROID[\"WGS 84\",6378137,298.257223563]],PRIMEM[\"Greenwich\",0],UNIT[\"degree\",0.0174532925199433,AUTHORITY[\"EPSG\",\"9122\"]],AXIS[\"Latitude\",NORTH],AXIS[\"Longitude\",EAST]]\n",
      " - Width: 43200\n",
      " - Height: 18000\n",
      " - Number of Bands: 1\n",
      " - Data Type: float32\n",
      " - Bounds: BoundingBox(left=-180.0, bottom=-60.0, right=179.99999999999858, top=89.9999999999994)\n",
      " - Min Value: -3.402823e+38\n",
      " - Max Value: 0.9970931\n",
      "\n",
      "--- Reading: BILBI_P_BHIv2_Species_2020.tif ---\n",
      "Raster Info:\n",
      " - CRS: GEOGCS[\"WGS 84\",DATUM[\"World Geodetic System 1984\",SPHEROID[\"WGS 84\",6378137,298.257223563]],PRIMEM[\"Greenwich\",0],UNIT[\"degree\",0.0174532925199433,AUTHORITY[\"EPSG\",\"9122\"]],AXIS[\"Latitude\",NORTH],AXIS[\"Longitude\",EAST]]\n",
      " - Width: 43200\n",
      " - Height: 18000\n",
      " - Number of Bands: 1\n",
      " - Data Type: float32\n",
      " - Bounds: BoundingBox(left=-180.0, bottom=-60.0, right=179.99999999999858, top=89.9999999999994)\n",
      " - Min Value: -3.402823e+38\n",
      " - Max Value: 0.99708045\n"
     ]
    }
   ],
   "source": [
    "import rasterio\n",
    "\n",
    "# List of raster file paths\n",
    "raster_paths = [\n",
    "    \"BILBI_P_BHIv2_Species_2000.tif\",\n",
    "    \"BILBI_P_BHIv2_Species_2005.tif\",\n",
    "    \"BILBI_P_BHIv2_Species_2010.tif\",\n",
    "    \"BILBI_P_BHIv2_Species_2015.tif\",\n",
    "    \"BILBI_P_BHIv2_Species_2020.tif\"\n",
    "]\n",
    "\n",
    "# Loop through each raster file\n",
    "for path in raster_paths:\n",
    "    print(f\"\\n--- Reading: {path} ---\")\n",
    "    \n",
    "    try:\n",
    "        with rasterio.open(path) as src:\n",
    "            print(\"Raster Info:\")\n",
    "            print(\" - CRS:\", src.crs)\n",
    "            print(\" - Width:\", src.width)\n",
    "            print(\" - Height:\", src.height)\n",
    "            print(\" - Number of Bands:\", src.count)\n",
    "            print(\" - Data Type:\", src.dtypes[0])\n",
    "            print(\" - Bounds:\", src.bounds)\n",
    "            \n",
    "            # Read first band\n",
    "            band1 = src.read(1)\n",
    "\n",
    "            # Check pixel value range\n",
    "            print(\" - Min Value:\", band1.min())\n",
    "            print(\" - Max Value:\", band1.max())\n",
    "\n",
    "    except Exception as e:\n",
    "        print(f\"Failed to read {path}: {e}\")"
   ]
  },
  {
   "cell_type": "code",
   "execution_count": 71,
   "id": "70f17aba-6692-4999-9762-06dc674164e2",
   "metadata": {},
   "outputs": [
    {
     "name": "stdout",
     "output_type": "stream",
     "text": [
      "Clipping: BILBI_P_BHIv2_Species_2000.tif -> clipped_BILBI_P_BHIv2_Species_2000.tif\n",
      "Clipping: BILBI_P_BHIv2_Species_2005.tif -> clipped_BILBI_P_BHIv2_Species_2005.tif\n",
      "Clipping: BILBI_P_BHIv2_Species_2010.tif -> clipped_BILBI_P_BHIv2_Species_2010.tif\n",
      "Clipping: BILBI_P_BHIv2_Species_2015.tif -> clipped_BILBI_P_BHIv2_Species_2015.tif\n",
      "Clipping: BILBI_P_BHIv2_Species_2020.tif -> clipped_BILBI_P_BHIv2_Species_2020.tif\n"
     ]
    }
   ],
   "source": [
    "import rasterio\n",
    "from rasterio.mask import mask\n",
    "\n",
    "# List of raster files to clip\n",
    "raster_files = [\n",
    " \"BILBI_P_BHIv2_Species_2000.tif\",\n",
    "    \"BILBI_P_BHIv2_Species_2005.tif\",\n",
    "    \"BILBI_P_BHIv2_Species_2010.tif\",\n",
    "    \"BILBI_P_BHIv2_Species_2015.tif\",\n",
    "    \"BILBI_P_BHIv2_Species_2020.tif\"\n",
    "]\n",
    "\n",
    "# Extract geometry in GeoJSON format\n",
    "geoms = borneo_boundary.geometry.values\n",
    "geometry = [geoms[0]]\n",
    "\n",
    "# Clip all rasters in the list\n",
    "for raster_path in raster_files:\n",
    "    output_path = f\"clipped_{os.path.basename(raster_path)}\"\n",
    "    print(f\"Clipping: {raster_path} -> {output_path}\")\n",
    "    \n",
    "    with rasterio.open(raster_path) as src:\n",
    "        out_image, out_transform = mask(src, geometry, crop=True)\n",
    "        \n",
    "        out_meta = src.meta.copy()\n",
    "        out_meta.update({\n",
    "            \"driver\": \"GTiff\",\n",
    "            \"height\": out_image.shape[1],\n",
    "            \"width\": out_image.shape[2],\n",
    "            \"transform\": out_transform\n",
    "        })\n",
    "        \n",
    "        with rasterio.open(output_path, \"w\", **out_meta) as dest:\n",
    "            dest.write(out_image)\n"
   ]
  },
  {
   "cell_type": "code",
   "execution_count": 73,
   "id": "4fc62389-c91a-464d-a955-807c0dc58adb",
   "metadata": {},
   "outputs": [],
   "source": [
    "import rasterio\n",
    "\n",
    "# List of clipped rasters (already generated)\n",
    "clipped_files = [\n",
    "    \"clipped_BILBI_P_BHIv2_Species_2000.tif\",\n",
    "    \"clipped_BILBI_P_BHIv2_Species_2005.tif\",\n",
    "    \"clipped_BILBI_P_BHIv2_Species_2010.tif\",\n",
    "    \"clipped_BILBI_P_BHIv2_Species_2015.tif\",\n",
    "    \"clipped_BILBI_P_BHIv2_Species_2020.tif\"\n",
    "]\n",
    "\n",
    "# Open the first file to get metadata\n",
    "with rasterio.open(clipped_files[0]) as src:\n",
    "    meta = src.meta.copy()\n",
    "\n",
    "# Update metadata for a multi-band file\n",
    "meta.update(count=len(clipped_files))\n",
    "\n",
    "# Create the stacked output file\n",
    "with rasterio.open('species_stack.tif', 'w', **meta) as dst:\n",
    "    for band_idx, file in enumerate(clipped_files, start=1):\n",
    "        with rasterio.open(file) as src:\n",
    "            dst.write(src.read(1), band_idx)  # Write each as a new band"
   ]
  },
  {
   "cell_type": "markdown",
   "id": "b954726f-637e-4144-92ee-0636b70f6a6a",
   "metadata": {},
   "source": [
    "## Correlation of BII 2020 and Forest Loss"
   ]
  },
  {
   "cell_type": "code",
   "execution_count": 3,
   "id": "7ec01541-8da3-4dc6-90b7-f7006d9c0df1",
   "metadata": {},
   "outputs": [],
   "source": [
    "dataset = pd.read_csv('Random_BII_ForestLoss_Samples_100m.csv')"
   ]
  },
  {
   "cell_type": "code",
   "execution_count": 24,
   "id": "85dc97e3-87db-491c-9a19-378856e127f9",
   "metadata": {},
   "outputs": [
    {
     "data": {
      "text/html": [
       "<div>\n",
       "<style scoped>\n",
       "    .dataframe tbody tr th:only-of-type {\n",
       "        vertical-align: middle;\n",
       "    }\n",
       "\n",
       "    .dataframe tbody tr th {\n",
       "        vertical-align: top;\n",
       "    }\n",
       "\n",
       "    .dataframe thead th {\n",
       "        text-align: right;\n",
       "    }\n",
       "</style>\n",
       "<table border=\"1\" class=\"dataframe\">\n",
       "  <thead>\n",
       "    <tr style=\"text-align: right;\">\n",
       "      <th></th>\n",
       "      <th>system:index</th>\n",
       "      <th>bii_2020</th>\n",
       "      <th>forest_loss_100m</th>\n",
       "      <th>.geo</th>\n",
       "    </tr>\n",
       "  </thead>\n",
       "  <tbody>\n",
       "    <tr>\n",
       "      <th>2956</th>\n",
       "      <td>4990_0</td>\n",
       "      <td>0.996103</td>\n",
       "      <td>0.00</td>\n",
       "      <td>{\"geodesic\":false,\"type\":\"Point\",\"coordinates\"...</td>\n",
       "    </tr>\n",
       "    <tr>\n",
       "      <th>2957</th>\n",
       "      <td>4991_0</td>\n",
       "      <td>0.791824</td>\n",
       "      <td>0.80</td>\n",
       "      <td>{\"geodesic\":false,\"type\":\"Point\",\"coordinates\"...</td>\n",
       "    </tr>\n",
       "    <tr>\n",
       "      <th>2958</th>\n",
       "      <td>4992_0</td>\n",
       "      <td>0.999334</td>\n",
       "      <td>0.00</td>\n",
       "      <td>{\"geodesic\":false,\"type\":\"Point\",\"coordinates\"...</td>\n",
       "    </tr>\n",
       "    <tr>\n",
       "      <th>2959</th>\n",
       "      <td>4993_0</td>\n",
       "      <td>0.935296</td>\n",
       "      <td>0.00</td>\n",
       "      <td>{\"geodesic\":false,\"type\":\"Point\",\"coordinates\"...</td>\n",
       "    </tr>\n",
       "    <tr>\n",
       "      <th>2960</th>\n",
       "      <td>4994_0</td>\n",
       "      <td>0.992126</td>\n",
       "      <td>0.00</td>\n",
       "      <td>{\"geodesic\":false,\"type\":\"Point\",\"coordinates\"...</td>\n",
       "    </tr>\n",
       "    <tr>\n",
       "      <th>2961</th>\n",
       "      <td>4995_0</td>\n",
       "      <td>0.995857</td>\n",
       "      <td>0.00</td>\n",
       "      <td>{\"geodesic\":false,\"type\":\"Point\",\"coordinates\"...</td>\n",
       "    </tr>\n",
       "    <tr>\n",
       "      <th>2962</th>\n",
       "      <td>4999_0</td>\n",
       "      <td>0.924274</td>\n",
       "      <td>0.05</td>\n",
       "      <td>{\"geodesic\":false,\"type\":\"Point\",\"coordinates\"...</td>\n",
       "    </tr>\n",
       "  </tbody>\n",
       "</table>\n",
       "</div>"
      ],
      "text/plain": [
       "     system:index  bii_2020  forest_loss_100m  \\\n",
       "2956       4990_0  0.996103              0.00   \n",
       "2957       4991_0  0.791824              0.80   \n",
       "2958       4992_0  0.999334              0.00   \n",
       "2959       4993_0  0.935296              0.00   \n",
       "2960       4994_0  0.992126              0.00   \n",
       "2961       4995_0  0.995857              0.00   \n",
       "2962       4999_0  0.924274              0.05   \n",
       "\n",
       "                                                   .geo  \n",
       "2956  {\"geodesic\":false,\"type\":\"Point\",\"coordinates\"...  \n",
       "2957  {\"geodesic\":false,\"type\":\"Point\",\"coordinates\"...  \n",
       "2958  {\"geodesic\":false,\"type\":\"Point\",\"coordinates\"...  \n",
       "2959  {\"geodesic\":false,\"type\":\"Point\",\"coordinates\"...  \n",
       "2960  {\"geodesic\":false,\"type\":\"Point\",\"coordinates\"...  \n",
       "2961  {\"geodesic\":false,\"type\":\"Point\",\"coordinates\"...  \n",
       "2962  {\"geodesic\":false,\"type\":\"Point\",\"coordinates\"...  "
      ]
     },
     "execution_count": 24,
     "metadata": {},
     "output_type": "execute_result"
    }
   ],
   "source": [
    "dataset.tail(7)"
   ]
  },
  {
   "cell_type": "code",
   "execution_count": 5,
   "id": "867c81ac-5d34-4f36-b089-aba47441f384",
   "metadata": {},
   "outputs": [
    {
     "name": "stdout",
     "output_type": "stream",
     "text": [
      "<class 'pandas.core.frame.DataFrame'>\n",
      "RangeIndex: 2963 entries, 0 to 2962\n",
      "Data columns (total 4 columns):\n",
      " #   Column            Non-Null Count  Dtype  \n",
      "---  ------            --------------  -----  \n",
      " 0   system:index      2963 non-null   object \n",
      " 1   bii_2020          2963 non-null   float64\n",
      " 2   forest_loss_100m  2963 non-null   float64\n",
      " 3   .geo              2963 non-null   object \n",
      "dtypes: float64(2), object(2)\n",
      "memory usage: 92.7+ KB\n"
     ]
    }
   ],
   "source": [
    "dataset.info()"
   ]
  },
  {
   "cell_type": "code",
   "execution_count": 7,
   "id": "dbeeb553-689b-4905-9bbc-c95fc98b426b",
   "metadata": {},
   "outputs": [
    {
     "data": {
      "image/png": "[encoded data removed]",
      "text/plain": [
       "<Figure size 640x480 with 1 Axes>"
      ]
     },
     "metadata": {},
     "output_type": "display_data"
    }
   ],
   "source": [
    "import matplotlib.pyplot as plt\n",
    "\n",
    "# Histogram of forest loss proportions\n",
    "dataset['forest_loss_100m'].hist(bins=30)\n",
    "plt.xlabel('Proportion of forest loss (100m pixel)')\n",
    "plt.ylabel('Pixel count')\n",
    "plt.title('Forest loss distribution')\n",
    "plt.show()\n"
   ]
  },
  {
   "cell_type": "markdown",
   "id": "6c792dae-5970-438b-a767-98998c701fca",
   "metadata": {},
   "source": [
    "### Pearson"
   ]
  },
  {
   "cell_type": "code",
   "execution_count": 9,
   "id": "f5fb25c5-cb64-45fb-9bee-c509d5020d07",
   "metadata": {},
   "outputs": [
    {
     "name": "stdout",
     "output_type": "stream",
     "text": [
      "Pearson r     = -0.6770\n",
      "p-value       = 0.0000e+00\n"
     ]
    }
   ],
   "source": [
    "from scipy.stats import pearsonr\n",
    "\n",
    "# Extract the variables\n",
    "x = dataset['forest_loss_100m']\n",
    "y = dataset['bii_2020']\n",
    "\n",
    "# Compute Pearson correlation and p-value\n",
    "r, p = pearsonr(x, y)\n",
    "\n",
    "print(f\"Pearson r     = {r:.4f}\")\n",
    "print(f\"p-value       = {p:.4e}\")\n"
   ]
  },
  {
   "cell_type": "code",
   "execution_count": 11,
   "id": "34a05d7e-6498-4fd8-99ad-35c9b28bab57",
   "metadata": {},
   "outputs": [
    {
     "data": {
      "image/png": "[encoded data removed]",
      "text/plain": [
       "<Figure size 640x480 with 1 Axes>"
      ]
     },
     "metadata": {},
     "output_type": "display_data"
    }
   ],
   "source": [
    "import seaborn as sns\n",
    "import matplotlib.pyplot as plt\n",
    "\n",
    "sns.scatterplot(x='forest_loss_100m', y='bii_2020', data=dataset)\n",
    "sns.regplot(x='forest_loss_100m', y='bii_2020', data=dataset, scatter=False, color='red', label='Linear trend')\n",
    "plt.legend()\n",
    "plt.title(\"BII vs Forest Loss (Linear Trend)\")\n",
    "plt.show()\n"
   ]
  },
  {
   "cell_type": "code",
   "execution_count": 17,
   "id": "324f1076-c408-4c97-b85a-b236e474cc34",
   "metadata": {},
   "outputs": [
    {
     "name": "stdout",
     "output_type": "stream",
     "text": [
      "                            OLS Regression Results                            \n",
      "==============================================================================\n",
      "Dep. Variable:               bii_2020   R-squared:                       0.458\n",
      "Model:                            OLS   Adj. R-squared:                  0.458\n",
      "Method:                 Least Squares   F-statistic:                     2506.\n",
      "Date:                Wed, 06 Aug 2025   Prob (F-statistic):               0.00\n",
      "Time:                        11:24:31   Log-Likelihood:                 3817.6\n",
      "No. Observations:                2963   AIC:                            -7631.\n",
      "Df Residuals:                    2961   BIC:                            -7619.\n",
      "Df Model:                           1                                         \n",
      "Covariance Type:            nonrobust                                         \n",
      "====================================================================================\n",
      "                       coef    std err          t      P>|t|      [0.025      0.975]\n",
      "------------------------------------------------------------------------------------\n",
      "const                0.9553      0.001    714.730      0.000       0.953       0.958\n",
      "forest_loss_100m    -0.2148      0.004    -50.061      0.000      -0.223      -0.206\n",
      "==============================================================================\n",
      "Omnibus:                     1605.695   Durbin-Watson:                   2.025\n",
      "Prob(Omnibus):                  0.000   Jarque-Bera (JB):            14672.457\n",
      "Skew:                          -2.424   Prob(JB):                         0.00\n",
      "Kurtosis:                      12.764   Cond. No.                         3.56\n",
      "==============================================================================\n",
      "\n",
      "Notes:\n",
      "[1] Standard Errors assume that the covariance matrix of the errors is correctly specified.\n"
     ]
    }
   ],
   "source": [
    "import statsmodels.api as sm\n",
    "\n",
    "# Add a constant term so we fit an intercept\n",
    "x_with_const = sm.add_constant(x)\n",
    "\n",
    "# Fit the OLS model\n",
    "model = sm.OLS(y, x_with_const).fit()\n",
    "\n",
    "# Print the regression summary\n",
    "print(model.summary())\n"
   ]
  },
  {
   "cell_type": "code",
   "execution_count": 19,
   "id": "52e661ae-d244-4f03-bd6c-5384cadd5f84",
   "metadata": {},
   "outputs": [
    {
     "data": {
      "image/png": "[encoded data removed]",
      "text/plain": [
       "<Figure size 800x600 with 1 Axes>"
      ]
     },
     "metadata": {},
     "output_type": "display_data"
    }
   ],
   "source": [
    "import matplotlib.pyplot as plt\n",
    "import numpy as np\n",
    "import statsmodels.api as sm\n",
    "\n",
    "# Prepare data\n",
    "X = dataset['forest_loss_100m']\n",
    "y = dataset['bii_2020']\n",
    "\n",
    "# Fit the OLS model\n",
    "X_with_const = sm.add_constant(X)\n",
    "model = sm.OLS(y, X_with_const).fit()\n",
    "\n",
    "# Predicted values\n",
    "y_pred = model.predict(X_with_const)\n",
    "\n",
    "# Plot\n",
    "plt.figure(figsize=(8,6))\n",
    "plt.scatter(X, y, alpha=0.4, label='Data points')\n",
    "plt.plot(X, y_pred, color='red', linewidth=2, label='OLS fit')\n",
    "plt.xlabel('Forest loss (100m)')\n",
    "plt.ylabel('Biodiversity Index (2020)')\n",
    "plt.title('OLS Regression: BII vs Forest Loss')\n",
    "plt.legend()\n",
    "plt.show()\n"
   ]
  }
 ],
 "metadata": {
  "kernelspec": {
   "display_name": "Python 3 (ipykernel)",
   "language": "python",
   "name": "python3"
  },
  "language_info": {
   "codemirror_mode": {
    "name": "ipython",
    "version": 3
   },
   "file_extension": ".py",
   "mimetype": "text/x-python",
   "name": "python",
   "nbconvert_exporter": "python",
   "pygments_lexer": "ipython3",
   "version": "3.12.3"
  }
 },
 "nbformat": 4,
 "nbformat_minor": 5
}
